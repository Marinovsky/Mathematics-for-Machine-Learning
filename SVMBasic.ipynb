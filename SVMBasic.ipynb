{
 "cells": [
  {
   "cell_type": "markdown",
   "metadata": {},
   "source": [
    "**Universidad Nacional de Colombia**\n",
    "\n",
    "**Math and Computer Science Department**\n",
    "\n",
    "**Maths for Machine Learning**\n",
    "\n",
    "**Ricardo Andrés Marino Rojas**"
   ]
  },
  {
   "cell_type": "markdown",
   "metadata": {
    "id": "s-y8Kil2snGk"
   },
   "source": [
    "For this assignment you will use the following SVM implementation for classifying these datasets:\n",
    "https://archive.ics.uci.edu/ml/datasets/banknote+authentication\n",
    "https://archive.ics.uci.edu/ml/datasets/Occupancy+Detection+\n",
    "\n",
    "You should:\n",
    "\n",
    "1) Specify which Machine Learning problem are you solving.\n",
    "\n",
    "2) Provide a short summary of the features and the labels you are working on.\n",
    "\n",
    "3) Please answer the following questions: a) Are these datasets linearly separable? b) Are these datasets randomly chosen and c) The sample size is enough to guarantee generalization.\n",
    "\n",
    "4) Provide an explanation how and why the code is working. You can add comments and/or formal explanations into the notebook.\n",
    "\n",
    "5) Show some examples to illustrate that the method is working properly.\n",
    "\n",
    "6) Provide quantitative evidence for generalization using the provided dataset.\n"
   ]
  },
  {
   "cell_type": "markdown",
   "metadata": {},
   "source": [
    "**NEEDED LIBRARIES**:"
   ]
  },
  {
   "cell_type": "code",
   "execution_count": 15,
   "metadata": {},
   "outputs": [],
   "source": [
    "import numpy as np\n",
    "from sklearn import datasets\n",
    "from sklearn.model_selection import train_test_split\n",
    "from sklearn.preprocessing import StandardScaler\n",
    "from sklearn.linear_model import Perceptron\n",
    "from sklearn.svm import SVC\n",
    "from sklearn.metrics import accuracy_score\n",
    "from matplotlib.colors import ListedColormap\n",
    "import matplotlib.pyplot as plt\n",
    "from matplotlib import rcParams\n",
    "rcParams[\"figure.figsize\"] = 10, 5\n",
    "%matplotlib inline"
   ]
  },
  {
   "cell_type": "markdown",
   "metadata": {},
   "source": [
    "**REMARK**: In order to run this notebook you most download the datasets used and the extract them into the current folder, this is, the folder were this file is. Take in mind, that this was made in Jupyter Notebook, so in the case you're working with Google Collaborative, you must upload the extracted dataset files into Google Collaborative."
   ]
  },
  {
   "cell_type": "markdown",
   "metadata": {},
   "source": [
    "# Specify which Machine Learning problem are you solving"
   ]
  },
  {
   "cell_type": "markdown",
   "metadata": {},
   "source": [
    "## Banknote authentication data set\n",
    "Day by day, millions or banknotes are printed by the government in order to supply the economy as needed. However, the criminal industry also produce their own fake banknotes, that are quite similar to the original ones. The problem being solved here is a classification problem. Given a new banknote-like specimen, verify if it's authentic or not."
   ]
  },
  {
   "cell_type": "markdown",
   "metadata": {},
   "source": [
    "## Occupancy detection data set\n",
    "Determining if there's someone present in a room or not, is a task daily done by thousands of appliances. The problem being solved is a classification problem. Given the data at certain time of a room, determine if it's occupied or not."
   ]
  },
  {
   "cell_type": "markdown",
   "metadata": {},
   "source": [
    "# Provide a short summary of the features and the labels you are working on"
   ]
  },
  {
   "cell_type": "markdown",
   "metadata": {},
   "source": [
    "## Banknote authentication data set\n",
    "\n",
    "The data obtained were from the digitalization of genuine and forged banknote-like specimens. Using an industrial camera the banknotes were digitalized to then be processed with Wavelet Transform tool, in order to extract features from those images. But before describing the feauters we are working on, let's see a brief introdoction of what a Wavelet Transform is.\n",
    "\n",
    "Signals are often used in this world to transfer different messages. Though they may seem noisy and irregular they often have certain structure that researchers study to develop better signal processing tools. One the of most famous methods in signal processing is the *Fourier Transform*, a technique developed by the french matematician Joseph Fourier that allows us the decompose a signal into a sum of pure functions with different frequencies. This tecnhique has been used broadly in many different fields, indeed, we couldn't have had quick phone calls without it. However, one downside of Fourier Transform is that, although we gain access to information about frequencies, we lose information about time. Actually, this a manifestation of Heisenberg uncertenity principle, there is always a trade off of information between time and frequency information.\n",
    "\n",
    "Nevertheless, there can be made a compromise between both the frequency and the time information, this is in fact what Wavelet Transform does. In this tecnique we decompose our signal into a specialized family functions that satisfy certain restrictions in order to be able to give us somehow information about time and frequency of our signal. Wavelet transform is defined as a collection of a convolutions of the data function, $f(x_{i})$, with an appropriately shifted and streched function $\\phi_{} ()$ called *wavelet* along a given time or space range:\n",
    "\n",
    "$$W(a,x_{j})=\\frac{1}{\\sqrt{a}}\\sum_{i=1}^{n} f(x_{i})\\phi \\left( \\frac{x_{i}- x_{j}}{a}\\right),$$\n",
    "\n",
    "where $a$ is the scale factor determining the extent the wavelet is stretched or compressed, and $x_{j}$ is the extent of the shift with which the wavelet is moving along the time or space range.\n",
    "\n",
    "Then the features extracted were the following ones:\n",
    "* Variance of Wavelet Transformed image (continuous): Variance finds how each pixel varies from the neighborhood pixels and classifies them into different regions. \n",
    "* Skewness of Wavelet Transformed image (continuous): Skewness is the measure of the lack of symmetry.\n",
    "* Curtosis of Wavelet Transformed image (continuous): Curtosis is a measure of whether the data are heavy-tailed or light-tailed relative to a normal distribution.\n",
    "* Entropy of image (continuous): Image entropy is a quantity used to describe the amount of information that must be encoded for, by a compression algorithm.\n",
    "* class (integer): Class containing two values 0 representing genuine banknote and 1 representing fake banknote."
   ]
  },
  {
   "cell_type": "markdown",
   "metadata": {},
   "source": [
    "## Occupancy Detection Data Set\n",
    "Every minute a picture of certain room was taken, containing the following information:\n",
    "\n",
    "* date time: The time were the picture of the room was taken, given in the format year-month-day hour:minute:second\n",
    "* Temperature: The tempature of the room, given in Celsius\n",
    "* Relative Humidity: The relative humidity of the room, given in percentage\n",
    "* Light: Amount of light in the room, given in Lux\n",
    "* CO2: Amount of C02 present in the room, given in ppm\n",
    "* Humidity Ratio: This feature was a quantity derived from the temperature and relative humidity, it's given in kgwater-vapor/kg-air\n",
    "* Occupancy: 0 or 1, 0 for not occupied, 1 for occupied status"
   ]
  },
  {
   "cell_type": "markdown",
   "metadata": {},
   "source": [
    "# Please answer the following questions:"
   ]
  },
  {
   "cell_type": "markdown",
   "metadata": {},
   "source": [
    "##  a) Are these datasets linearly separable?"
   ]
  },
  {
   "cell_type": "markdown",
   "metadata": {},
   "source": [
    "In order to answer this question we will use the *Perceptron method*, this method is guaranteed to converge if the data is linearly separable (Novikoff, Albert J. (1963). \"On convergence proofs for perceptrons\". Office of Naval Research).\n",
    "\n",
    "Perceptron is a machine learning algorithm that works as a classifier. Using a *threshold function*, it maps every input x (where x is a vector in $\\mathbb{R}^{n}$) to an output $f(x)$ that can be either one of two possible values (usually denoted as $1$ and $0$).\n",
    "$$f(x)=\\begin{cases}\n",
    "1\\quad\\text{if}\\quad\\mathbf{w}\\cdot\\mathbf{x}+\\mathbf{b} \\geq 0,\\\\\n",
    "0\\quad\\text{otherwise}\n",
    "\\end{cases}$$\n",
    "\n",
    "where $\\mathbf{w}$ is called the *weight vector* (a vector in $\\mathbb{R}^{n}$), the product $\\mathbf{w}\\cdot\\mathbf{x}$ is the usual dot product and $\\mathbf{b}$ is the *bias*, a real value introduced to push the decision boundary from the origin and it does not depend on the possible inputs.\n",
    "\n",
    "The algorithms works as follows: Given two sets of points in $\\mathbb{R}^{n}$ $A=\\{a_{1},\\dots,a_{m}\\}$ and $B=\\{b_{1},\\dots,b_{l}\\}$, a vector $\\mathbf{x}=\\{1,x_{1},\\dots,x_{n}\\}\\in\\mathbb{R}^{n+1}$, a defined weight vector $\\mathbf{w}=\\{\\mathbf{b},w_{1},\\dots,w_{n}\\}\\in\\mathbb{R}^{n+1}$ and *learning rate* value $\\mu$, we proceed as follows:\n",
    "\n",
    "* 1) Compute the dot product between vectors $\\mathbf{w}\\cdot\\mathbf{x}$\n",
    "* 2) As the vector $\\mathbf{x}$ is not defined, step 1 will produce a hyperplane. Check if any point in $A$ or $B$ has been misclassified with $f$(output 1 for a point in A, and 0 for a point in B). Pick the any misclassified point $c$ and set $d=-1$ if $f(c)=1$ and $c\\in B$, if $f(c)=0$ and $c\\in A$ then set $d=1$. If no points where misclassified, return hyperplane given by $\\mathbf{w} \\cdot \\mathbf{x} = 0$ and end the algorithm.\n",
    "\n",
    "* 3) Update $\\mathbf{w}$ with $\\mathbf{w}'$, where $\\mathbf{w}'$ is defined as:\n",
    "$$\\mathbf{w}'=\\mathbf{w}+ \\mu * d * \\mathbf{x}$$\n",
    "* 4) Go back to step 1)\n",
    "\n",
    "Now, let's use the following method to see if the Banknote and Occupancy dataset are linearly dataset. First, we create a method to read the dataset from a .txt  file"
   ]
  },
  {
   "cell_type": "code",
   "execution_count": 2,
   "metadata": {},
   "outputs": [],
   "source": [
    "def ReadData(filepath):\n",
    "    dataset=[]\n",
    "    with open(filepath) as f:\n",
    "        for line in f.readlines():\n",
    "            raw_line=line.split(\",\")\n",
    "            raw_line=[float(x) for x in raw_line]\n",
    "            dataset.append(raw_line)\n",
    "    return dataset"
   ]
  },
  {
   "cell_type": "markdown",
   "metadata": {},
   "source": [
    "In the same way, we declare a method to create, train and test our Perceptron model from *Scikit-Learn* library"
   ]
  },
  {
   "cell_type": "code",
   "execution_count": 3,
   "metadata": {},
   "outputs": [],
   "source": [
    "def MyPerceptron(X_test, y_test, X_train, y_train):\n",
    "    random_state = 0\n",
    "    \n",
    "    # standarize the data like we did before, but use\n",
    "    # the 'StandardScaler'\n",
    "    \n",
    "    # create the instance\n",
    "    sc = StandardScaler()\n",
    "    \n",
    "    # fit the scaler to the training feature set ONLY\n",
    "    sc.fit(X_train)\n",
    "\n",
    "    # scale (transform) the training AND the testing sets\n",
    "    # using the scaler that was fitted to traning data\n",
    "    X_train_std = sc.transform(X_train)\n",
    "    X_test_std = sc.transform(X_test)\n",
    "    \n",
    "    # it is important to transform non-numeric target\n",
    "    # values into numbers prior to splitting the data\n",
    "    # to avoid unexpected results when modeling\n",
    "    print(\"Unique labels: {0}\".format(np.unique(y)))\n",
    "    \n",
    "    # let's train a model using the sklearn\n",
    "    # implementation of perceptron\n",
    "    n_iter = 40\n",
    "    eta0 = 0.1 # same as 'eta' (learning rate) in our implementation\n",
    "    \n",
    "    # create the perceptron instance\n",
    "    ppn = Perceptron(max_iter=n_iter, eta0=eta0, random_state=random_state)\n",
    "    \n",
    "    # fit the model to the standarized data\n",
    "    ppn.fit(X_train_std, y_train)\n",
    "    \n",
    "    # make predictions\n",
    "    y_pred = ppn.predict(X_test_std)\n",
    "    \n",
    "    # we can measure performance using the 'accuracy_score'\n",
    "    # convenience function in sklearn\n",
    "    print(\"accuracy: {0:.2f}%\".format(accuracy_score(y_test, y_pred)*100))"
   ]
  },
  {
   "cell_type": "markdown",
   "metadata": {},
   "source": [
    "Once we have made this, we start by reading the first dataset, the occupancy dataset, who is given in two .txt files"
   ]
  },
  {
   "cell_type": "code",
   "execution_count": 5,
   "metadata": {},
   "outputs": [],
   "source": [
    "dataset=[]\n",
    "with open(\"datatest.txt\") as f:\n",
    "    title = True\n",
    "    for line in f.readlines():\n",
    "        # Ignore the labels\n",
    "        if title == True:\n",
    "            title = False\n",
    "            continue\n",
    "        \n",
    "        # Split, ignore the dates and index values, and finally\n",
    "        # convert the values to float\n",
    "        raw_line=line.split(\",\")\n",
    "        raw_line=raw_line[2:]\n",
    "        raw_line=[float(x) for x in raw_line]\n",
    "        \n",
    "        # Store the transformed sample\n",
    "        dataset.append(raw_line)\n",
    "\n",
    "X = []\n",
    "y = []\n",
    "\n",
    "# Extract the last value from the samples, which is the class of\n",
    "# the sample\n",
    "for entry in dataset:\n",
    "    row = entry[0:-1]\n",
    "    X.append(np.array(row))\n",
    "    if entry[-1] == 0:\n",
    "        y.append(0)\n",
    "    else:\n",
    "        y.append(1)"
   ]
  },
  {
   "cell_type": "markdown",
   "metadata": {},
   "source": [
    "Make the same process with dataset number 2"
   ]
  },
  {
   "cell_type": "code",
   "execution_count": 6,
   "metadata": {},
   "outputs": [],
   "source": [
    "dataset2 = []\n",
    "with open(\"datatest2.txt\") as f:\n",
    "    title = True\n",
    "    for line in f.readlines():\n",
    "        if title == True:\n",
    "            title = False\n",
    "            continue\n",
    "        raw_line=line.split(\",\")\n",
    "        raw_line=raw_line[2:]\n",
    "        raw_line=[float(x) for x in raw_line]\n",
    "        dataset2.append(raw_line)\n",
    "\n",
    "for entry in dataset2:\n",
    "    row = entry[0:-1]\n",
    "    X.append(np.array(row))\n",
    "    if entry[-1] == 0:\n",
    "        y.append(0)\n",
    "    else:\n",
    "        y.append(1)\n",
    "\n",
    "# Transform the list from datatest and datatest2 into a numpy array\n",
    "X = np.array(X)\n",
    "y = np.array(y)"
   ]
  },
  {
   "cell_type": "markdown",
   "metadata": {},
   "source": [
    "Finally, read and store the training dataset"
   ]
  },
  {
   "cell_type": "code",
   "execution_count": 7,
   "metadata": {},
   "outputs": [],
   "source": [
    "train_dataset = []\n",
    "with open(\"datatraining.txt\") as f:\n",
    "    title = True\n",
    "    for line in f.readlines():\n",
    "        if title == True:\n",
    "            title = False\n",
    "            continue\n",
    "        raw_line=line.split(\",\")\n",
    "        raw_line=raw_line[2:]\n",
    "        raw_line=[float(x) for x in raw_line]\n",
    "        train_dataset.append(raw_line)\n",
    "\n",
    "X_train = []\n",
    "y_train = []\n",
    "for entry in train_dataset:\n",
    "    row = entry[0:-1]\n",
    "    X_train.append(np.array(row))\n",
    "    if entry[-1] == 0:\n",
    "        y_train.append(0)\n",
    "    else:\n",
    "        y_train.append(1)\n",
    "        \n",
    "X_train = np.array(X_train)\n",
    "y_train = np.array(y_train)"
   ]
  },
  {
   "cell_type": "markdown",
   "metadata": {},
   "source": [
    "Now, use *MyPerceptron* function, declared above, to check whether the occupancy dataset is linearly separable or not"
   ]
  },
  {
   "cell_type": "code",
   "execution_count": 8,
   "metadata": {},
   "outputs": [
    {
     "name": "stdout",
     "output_type": "stream",
     "text": [
      "Unique labels: [0 1]\n",
      "accuracy: 96.34%\n"
     ]
    }
   ],
   "source": [
    "MyPerceptron(X,y, X_train, y_train)"
   ]
  },
  {
   "cell_type": "markdown",
   "metadata": {},
   "source": [
    "As you can see, the accuracy of our perceptron model with the testing dataset was about 96%, giving us a high probability of convergence. This means, there's a high chance of this dataset being linearly separable."
   ]
  },
  {
   "cell_type": "markdown",
   "metadata": {},
   "source": [
    "Furthermore, let's make the same process for the banknote dataset, in order to check if it's linearly separable "
   ]
  },
  {
   "cell_type": "code",
   "execution_count": 9,
   "metadata": {},
   "outputs": [],
   "source": [
    "dataset = ReadData(\"data_banknote_authentication.txt\")\n",
    "\n",
    "X = []\n",
    "y = []\n",
    "# Extract the classification label and store it in list y\n",
    "for entry in dataset:\n",
    "    row = entry[0:-1]\n",
    "    X.append(np.array(row))\n",
    "    if entry[-1] == 0.0:\n",
    "        y.append(0)\n",
    "    else:\n",
    "        y.append(1)\n",
    "\n",
    "# Transform both list to a np.array\n",
    "X = np.array(X)\n",
    "y = np.array(y)"
   ]
  },
  {
   "cell_type": "markdown",
   "metadata": {},
   "source": [
    "In this case, we do not have a training dataset, so we will train our model with 70% of the samples from our dataset"
   ]
  },
  {
   "cell_type": "code",
   "execution_count": 10,
   "metadata": {},
   "outputs": [],
   "source": [
    "# Now we'll use 'train_test_split' from sklearn\n",
    "# to split the data into training and testing sets\n",
    "test_size = 0.3\n",
    "random_state = 0\n",
    "\n",
    "# 'train_test_split' convinience function\n",
    "X_train, X, y_train, y = train_test_split(X, y, test_size=test_size, random_state=random_state)"
   ]
  },
  {
   "cell_type": "markdown",
   "metadata": {},
   "source": [
    "Lastly, use our perceptron model to check whether our banknote dataset is linearly separable or not"
   ]
  },
  {
   "cell_type": "code",
   "execution_count": 11,
   "metadata": {},
   "outputs": [
    {
     "name": "stdout",
     "output_type": "stream",
     "text": [
      "Unique labels: [0 1]\n",
      "accuracy: 98.30%\n"
     ]
    }
   ],
   "source": [
    "MyPerceptron(X,y, X_train, y_train)"
   ]
  },
  {
   "cell_type": "markdown",
   "metadata": {},
   "source": [
    "The accuracy of our perceptron model with the testing data set was about 98%, giving us a high chance of convergence. This means, that there's a high probability that our banknote dataset is linearly separable"
   ]
  },
  {
   "cell_type": "markdown",
   "metadata": {},
   "source": [
    "## b) Are these datasets randomly chosen?"
   ]
  },
  {
   "cell_type": "markdown",
   "metadata": {},
   "source": [
    "A dataset is randomly chosen if for each sample there is the same probability of being chosen than for another one. Then, we need to check if this condition applies in both of our datasets. Let's first start with the banknote dataset"
   ]
  },
  {
   "cell_type": "markdown",
   "metadata": {},
   "source": [
    "## Banknotes dataset"
   ]
  },
  {
   "cell_type": "markdown",
   "metadata": {},
   "source": [
    "From the description of our banknote dataset we know that there was taken genuine and fake banknotes images to extract the different labels of each sample. Then, the genuine banknote labels should be similar between them, as well as for the fake banknotes with themselves. Thus, if we compute the average for each label, the ones from the genuine banknotes samples should look similar, and the same should happen for the fake ones. Let's see if our theory is correct"
   ]
  },
  {
   "cell_type": "code",
   "execution_count": 188,
   "metadata": {
    "scrolled": true
   },
   "outputs": [
    {
     "data": {
      "image/png": "[encoded data removed]",
      "text/plain": [
       "<Figure size 1000x500 with 1 Axes>"
      ]
     },
     "metadata": {},
     "output_type": "display_data"
    }
   ],
   "source": [
    "X_average_genuine = []\n",
    "X_average_fake = []\n",
    "\n",
    "# Get the average from each sample and store it according if it's genuine or fake\n",
    "for i in range(0,len(X)):\n",
    "    row = X[i]\n",
    "    avg = np.average(row)\n",
    "    if y[i] == 1:\n",
    "        X_average_genuine.append(avg)\n",
    "    else:\n",
    "        X_average_fake.append(avg)\n",
    "\n",
    "# Sort the average values to see in the plot the distribution they follow\n",
    "X_average_genuine.sort()\n",
    "\n",
    "# Plot the average values for the genuine banknotes\n",
    "index=range(len(X_average_genuine))\n",
    "fig = plt.figure()\n",
    "ax = fig.add_axes([0,0,1,1])\n",
    "ax.bar(index, X_average_genuine)\n",
    "plt.show()"
   ]
  },
  {
   "cell_type": "markdown",
   "metadata": {},
   "source": [
    "If the genuine samples were randomly chosen, the distribution of the averages would be roughly the same for all the samples, and that's what we can see in the plot. In general, values between $-1$ and $0$ are more likely to occur than values bigger than $0$. Then we can conclude, that the genuine banknotes samples were randomly chosen but bad quality bank notes were also chosen."
   ]
  },
  {
   "cell_type": "markdown",
   "metadata": {},
   "source": [
    "In the other hand, if we do the same process for the fake banknotes we will observe a similar behavior of the average distribution"
   ]
  },
  {
   "cell_type": "code",
   "execution_count": 189,
   "metadata": {},
   "outputs": [
    {
     "data": {
      "image/png": "[encoded data removed]",
      "text/plain": [
       "<Figure size 1000x500 with 1 Axes>"
      ]
     },
     "metadata": {},
     "output_type": "display_data"
    }
   ],
   "source": [
    "X_average_fake.sort()\n",
    "index=range(len(X_average_fake))\n",
    "fig = plt.figure()\n",
    "ax = fig.add_axes([0,0,1,1])\n",
    "ax.bar(index, X_average_fake)\n",
    "plt.show()"
   ]
  },
  {
   "cell_type": "markdown",
   "metadata": {},
   "source": [
    "From the plot, we observe how values between $-0.5$ and $0$ are less likely to occur than values from $0$ to $2$. So we conclude the same for this dataset portion, that it its samples has been randomly chosen but there was took in consideration high quality fake banknotes."
   ]
  },
  {
   "cell_type": "markdown",
   "metadata": {},
   "source": [
    "Finally, see the distribution of all the average values of the samples in the banknote dataset"
   ]
  },
  {
   "cell_type": "code",
   "execution_count": 190,
   "metadata": {
    "scrolled": true
   },
   "outputs": [
    {
     "data": {
      "image/png": "[encoded data removed]",
      "text/plain": [
       "<Figure size 1000x500 with 1 Axes>"
      ]
     },
     "metadata": {},
     "output_type": "display_data"
    }
   ],
   "source": [
    "total_index = range(0,len(X))\n",
    "total_samples_avg = X_average_genuine + X_average_fake\n",
    "fig = plt.figure()\n",
    "ax = fig.add_axes([0,0,1,1])\n",
    "ax.bar(total_index, total_samples_avg)\n",
    "plt.show()"
   ]
  },
  {
   "cell_type": "markdown",
   "metadata": {},
   "source": [
    "## Occupancy dataset"
   ]
  },
  {
   "cell_type": "markdown",
   "metadata": {},
   "source": [
    "If we consider the occupancy dataset we can see a similar behavior"
   ]
  },
  {
   "cell_type": "code",
   "execution_count": 191,
   "metadata": {},
   "outputs": [],
   "source": [
    "dataset=[]\n",
    "with open(\"datatest.txt\") as f:\n",
    "    title = True\n",
    "    for line in f.readlines():\n",
    "        # Ignore the labels\n",
    "        if title == True:\n",
    "            title = False\n",
    "            continue\n",
    "        \n",
    "        # Split, ignore the dates and index values, and finally\n",
    "        # convert the values to float\n",
    "        raw_line=line.split(\",\")\n",
    "        raw_line=raw_line[2:]\n",
    "        raw_line=[float(x) for x in raw_line]\n",
    "        \n",
    "        # Store the transformed sample\n",
    "        dataset.append(raw_line)\n",
    "\n",
    "X = []\n",
    "y = []\n",
    "\n",
    "# Extract the last value from the samples, which is the class of\n",
    "# the sample\n",
    "for entry in dataset:\n",
    "    row = entry[0:-1]\n",
    "    X.append(np.array(row))\n",
    "    if entry[-1] == 0:\n",
    "        y.append(0)\n",
    "    else:\n",
    "        y.append(1)"
   ]
  },
  {
   "cell_type": "code",
   "execution_count": 192,
   "metadata": {},
   "outputs": [],
   "source": [
    "dataset2 = []\n",
    "with open(\"datatest2.txt\") as f:\n",
    "    title = True\n",
    "    for line in f.readlines():\n",
    "        if title == True:\n",
    "            title = False\n",
    "            continue\n",
    "        raw_line=line.split(\",\")\n",
    "        raw_line=raw_line[2:]\n",
    "        raw_line=[float(x) for x in raw_line]\n",
    "        dataset2.append(raw_line)\n",
    "\n",
    "for entry in dataset2:\n",
    "    row = entry[0:-1]\n",
    "    X.append(np.array(row))\n",
    "    if entry[-1] == 0:\n",
    "        y.append(0)\n",
    "    else:\n",
    "        y.append(1)\n",
    "\n",
    "# Transform the list from datatest and datatest2 into a numpy array\n",
    "X = np.array(X)\n",
    "y = np.array(y)"
   ]
  },
  {
   "cell_type": "code",
   "execution_count": 193,
   "metadata": {
    "scrolled": false
   },
   "outputs": [
    {
     "data": {
      "image/png": "[encoded data removed]",
      "text/plain": [
       "<Figure size 1000x500 with 1 Axes>"
      ]
     },
     "metadata": {},
     "output_type": "display_data"
    }
   ],
   "source": [
    "X_average_occupated = []\n",
    "X_average_empty = []\n",
    "\n",
    "# Get the average from each sample and store it according if it's genuine or fake\n",
    "for i in range(0,len(X)):\n",
    "    row = X[i]\n",
    "    avg = np.average(row)\n",
    "    if y[i] == 1:\n",
    "        X_average_occupated.append(avg)\n",
    "    else:\n",
    "        X_average_empty.append(avg)\n",
    "\n",
    "# Sort the average values to see in the plot the distribution they follow\n",
    "X_average_occupated.sort()\n",
    "\n",
    "# Plot the average values for the genuine banknotes\n",
    "index=range(len(X_average_occupated))\n",
    "fig = plt.figure()\n",
    "ax = fig.add_axes([0,0,1,1])\n",
    "ax.bar(index, X_average_occupated)\n",
    "plt.show()"
   ]
  },
  {
   "cell_type": "markdown",
   "metadata": {},
   "source": [
    "Though the average value among the sample averages is between $200$ and $300$, it can be seen a few samples with an average greater of equal to $400$. So this shows us how the probability of get certain sample is nearly the same for all, but there's a few ones with higher values than the average."
   ]
  },
  {
   "cell_type": "code",
   "execution_count": 194,
   "metadata": {
    "scrolled": true
   },
   "outputs": [
    {
     "data": {
      "image/png": "[encoded data removed]",
      "text/plain": [
       "<Figure size 1000x500 with 1 Axes>"
      ]
     },
     "metadata": {},
     "output_type": "display_data"
    }
   ],
   "source": [
    "X_average_empty.sort()\n",
    "index=range(len(X_average_empty))\n",
    "fig = plt.figure()\n",
    "ax = fig.add_axes([0,0,1,1])\n",
    "ax.bar(index, X_average_empty)\n",
    "plt.show()"
   ]
  },
  {
   "cell_type": "markdown",
   "metadata": {},
   "source": [
    "In this case we can also conclude the same due to the fact that most samples values are between $100$ and $200$. However, as mentioned before, a few amount of the samples have a higher value than the average."
   ]
  },
  {
   "cell_type": "code",
   "execution_count": 195,
   "metadata": {},
   "outputs": [
    {
     "data": {
      "image/png": "[encoded data removed]",
      "text/plain": [
       "<Figure size 1000x500 with 1 Axes>"
      ]
     },
     "metadata": {},
     "output_type": "display_data"
    }
   ],
   "source": [
    "total_index = range(0,len(X))\n",
    "total_samples_avg = X_average_occupated + X_average_empty\n",
    "fig = plt.figure()\n",
    "ax = fig.add_axes([0,0,1,1])\n",
    "ax.bar(total_index, total_samples_avg)\n",
    "plt.show()"
   ]
  },
  {
   "cell_type": "markdown",
   "metadata": {},
   "source": [
    "## c) The sample size is enough to guarantee generalization."
   ]
  },
  {
   "cell_type": "markdown",
   "metadata": {},
   "source": [
    "If we consider the plots aforementioned, we see there's a significant representation of good genuine banknotes and genuine banknotes nearly similar to fake ones. Similarly, we can observe fake bank notes who are quite similar to genuine ones and other ones who are far from being a genuine banknote. Consequently, our sample size is big enough and have an significant representation of both genuine and fake banknotes, taking into account its quality, to guarantee generalization. "
   ]
  },
  {
   "cell_type": "markdown",
   "metadata": {},
   "source": [
    "# Provide an explanation how and why the code is working. You can add comments and/or formal explanations into the notebook."
   ]
  },
  {
   "cell_type": "markdown",
   "metadata": {},
   "source": [
    "*Support Vector Machine* is a machine learning algorithm used frequently in classification tasks. It's aim is construct one or more hyperplanes that separate a different sets of points. The quality or accuracy of a SVM is based on how far the constructed hyperplane is from the nearest points of different classes, since this minimizes the generalization error. Though in principle this method doesn't work with non-linearly separable datasets, it can be modified to obtain the hyperplane that gives the less amount of misclassified points. Below, it can be seen a hyperplane dividing a set of linearly separable points, and three points in its margin.\n",
    "![SVM](https://scikit-learn.org/stable/_images/sphx_glr_plot_separating_hyperplane_001.png)"
   ]
  },
  {
   "cell_type": "markdown",
   "metadata": {},
   "source": [
    "Given a set of points $x_i\\in\\mathbb{R}^{p}$ from $i=1,\\dots,n$ divided in two classes, and a vector $y\\in\\{1,-1\\}^{n}$ which tells us the $i$th-point class, we want to find $x\\in\\mathbb{R}^{p}$ and $b\\in\\mathbb{R}$ such that the prediction obtained from $\\text{sign}(w^{T}\\phi(x)+b)$ is correct for most samples.The problem solved by a SMV or a SVC(Support Vector Classifier) is the following one:\n",
    "\n",
    "$$\\min_{w,b,\\zeta} \\frac{1}{2} w^{T} w + C \\sum_{i=1}^{n}\\zeta_{i}\\\\\n",
    "\\text{subject to } y_{i}(w^{T}\\phi(x_{i}) + b) \\geq 1 - \\zeta_{i},\\\\\n",
    "\\zeta_{i} \\geq 0, i=1,\\cdots,n$$\n",
    "\n",
    "Here we are trying to maximize the margin of our hyperplane (this is done minimizing $w^{T}w$) while reducing the penalty incurred by the number of misclassified points. As it was aforementioned, the hyperplane constructed should make no mistake, but in practice, due to the noise in most dataset, we allow some samples to be at certain distance $\\zeta_{i}$ from the correct margin boundary. Indeed, the hyper-parameter $C$ defines how much penalized our decision function is after incurring in one misclassified point. Function $\\phi$ in principle is the identity function but, if the problem is reformulated, it can be a mapping to a higher dimensional space ([See kernel trick](https://en.wikipedia.org/wiki/Kernel_method)).\n",
    "\n",
    "Finally, we use the Coordinate Descent method to solve the optimization problem. This method will converge as long as our decision function is convex and differentiable (the data have high enough resolution) ([See](https://www.mit.edu/~dimitrib/PTseng/papers/archive/bcr_jota.pdf)). In this case, we use the [LIBLINEAR](https://www.jmlr.org/papers/volume9/fan08a/fan08a.pdf) library implemented Coordinate Descent method."
   ]
  },
  {
   "cell_type": "code",
   "execution_count": 24,
   "metadata": {
    "colab": {
     "base_uri": "https://localhost:8080/",
     "height": 321
    },
    "id": "5AOO-Ib6o_7U",
    "outputId": "a46b2e50-4a88-489d-dc66-f1079d1bce6f"
   },
   "outputs": [],
   "source": [
    "def MySVM(X_train, y_train):\n",
    "    # it is important to transform non-numeric target\n",
    "    # values into numbers prior to splitting the data\n",
    "    # to avoid unexpected results when modeling\n",
    "    print(\"Unique labels: {0}\".format(np.unique(y)))\n",
    "    \n",
    "    # let's train a model using the sklearn\n",
    "    # implementation of perceptron\n",
    "    n_iter = 100\n",
    "    random_state = 0\n",
    "    \n",
    "    # create the svc instance\n",
    "    svm = SVC(kernel='linear', C=0.5)\n",
    "    \n",
    "    # fit the model to the standarized data\n",
    "    svm.fit(X_train, y_train)\n",
    "    return svm"
   ]
  },
  {
   "cell_type": "markdown",
   "metadata": {},
   "source": [
    "# Show some examples to illustrate that the method is working properly"
   ]
  },
  {
   "cell_type": "markdown",
   "metadata": {},
   "source": [
    "## [Iris dataset](https://scikit-learn.org/stable/modules/generated/sklearn.datasets.load_iris.html#sklearn.datasets.load_iris)"
   ]
  },
  {
   "cell_type": "code",
   "execution_count": 12,
   "metadata": {},
   "outputs": [],
   "source": [
    "from sklearn import datasets"
   ]
  },
  {
   "cell_type": "code",
   "execution_count": 13,
   "metadata": {},
   "outputs": [],
   "source": [
    "#load iris dataset from sklearn\n",
    "iris = datasets.load_iris()\n",
    "\n",
    "# separate features and targets\n",
    "X = iris.data\n",
    "y = iris.target"
   ]
  },
  {
   "cell_type": "code",
   "execution_count": 14,
   "metadata": {},
   "outputs": [],
   "source": [
    "# Now we'll use 'train_test_split' from sklearn\n",
    "# to split the data into training and testing sets\n",
    "test_size = 0.3\n",
    "random_state = 0\n",
    "\n",
    "# 'train_test_split' convinience function\n",
    "X_train, X_test, y_train, y_test = train_test_split(X, y, test_size=test_size, random_state=random_state)"
   ]
  },
  {
   "cell_type": "code",
   "execution_count": 15,
   "metadata": {},
   "outputs": [],
   "source": [
    "# standarize the data like we did before, but use\n",
    "# the 'StandardScaler'\n",
    "    \n",
    "# create the instance\n",
    "sc = StandardScaler()\n",
    "    \n",
    "# fit the scaler to the training feature set ONLY\n",
    "sc.fit(X_train)\n",
    "\n",
    "# scale (transform) the training AND the testing sets\n",
    "# using the scaler that was fitted to traning data\n",
    "X_train_std = sc.transform(X_train)\n",
    "X_test_std = sc.transform(X_test)"
   ]
  },
  {
   "cell_type": "code",
   "execution_count": 16,
   "metadata": {},
   "outputs": [],
   "source": [
    "# we will select a subset of the features\n",
    "X_train_std = X_train_std[:,[2,3]]\n",
    "X_test_std = X_test_std[:, [2,3]]"
   ]
  },
  {
   "cell_type": "code",
   "execution_count": 20,
   "metadata": {
    "scrolled": true
   },
   "outputs": [
    {
     "name": "stdout",
     "output_type": "stream",
     "text": [
      "Unique labels: [0 1 2]\n",
      "accuracy: 97.78%\n"
     ]
    }
   ],
   "source": [
    "svm = MySVM(X_train_std, y_train)\n",
    "# make predictions\n",
    "y_pred = svm.predict(X_test_std)\n",
    "    \n",
    "# we can measure performance using the 'accuracy_score'\n",
    "# convenience function in sklearn\n",
    "print(\"accuracy: {0:.2f}%\".format(accuracy_score(y_test, y_pred)*100))"
   ]
  },
  {
   "cell_type": "code",
   "execution_count": 21,
   "metadata": {},
   "outputs": [
    {
     "data": {
      "text/plain": [
       "<AxesSubplot:>"
      ]
     },
     "execution_count": 21,
     "metadata": {},
     "output_type": "execute_result"
    },
    {
     "data": {
      "image/png": "[encoded data removed]",
      "text/plain": [
       "<Figure size 1000x500 with 1 Axes>"
      ]
     },
     "metadata": {},
     "output_type": "display_data"
    }
   ],
   "source": [
    "from mlxtend.plotting import plot_decision_regions\n",
    "# with those modifications in place, we can specify the test\n",
    "# indices; first we need re-combine the traning and testing\n",
    "# datasets\n",
    "X_combined_std = np.vstack((X_train_std, X_test_std))\n",
    "\n",
    "y_combined = np.hstack((y_train, y_test))\n",
    "\n",
    "# plot the decision regions\n",
    "classifier = svm\n",
    "test_idx = range(105, 150) # the indices of the samples in de test set\n",
    "plot_decision_regions(X=X_combined_std, y=y_combined, clf=svm, legend=2)"
   ]
  },
  {
   "cell_type": "markdown",
   "metadata": {},
   "source": [
    "## [Wine dataset](https://scikit-learn.org/stable/modules/generated/sklearn.datasets.load_wine.html#sklearn.datasets.load_wine)"
   ]
  },
  {
   "cell_type": "code",
   "execution_count": 22,
   "metadata": {},
   "outputs": [],
   "source": [
    "wine = datasets.load_wine()\n",
    "\n",
    "X = wine.data\n",
    "y = wine.target"
   ]
  },
  {
   "cell_type": "code",
   "execution_count": 23,
   "metadata": {},
   "outputs": [
    {
     "name": "stdout",
     "output_type": "stream",
     "text": [
      "(178, 13)\n"
     ]
    }
   ],
   "source": [
    "print(X.shape)"
   ]
  },
  {
   "cell_type": "code",
   "execution_count": 24,
   "metadata": {},
   "outputs": [
    {
     "name": "stdout",
     "output_type": "stream",
     "text": [
      "(178,)\n"
     ]
    }
   ],
   "source": [
    "print(y.shape)"
   ]
  },
  {
   "cell_type": "code",
   "execution_count": 25,
   "metadata": {},
   "outputs": [],
   "source": [
    "# Now we'll use 'train_test_split' from sklearn\n",
    "# to split the data into training and testing sets\n",
    "test_size = 0.3\n",
    "random_state = 0\n",
    "\n",
    "# 'train_test_split' convinience function\n",
    "X_train, X_test, y_train, y_test = train_test_split(X, y, test_size=test_size, random_state=random_state)"
   ]
  },
  {
   "cell_type": "code",
   "execution_count": 26,
   "metadata": {},
   "outputs": [],
   "source": [
    "# standarize the data like we did before, but use\n",
    "# the 'StandardScaler'\n",
    "    \n",
    "# create the instance\n",
    "sc = StandardScaler()\n",
    "    \n",
    "# fit the scaler to the training feature set ONLY\n",
    "sc.fit(X_train)\n",
    "\n",
    "# scale (transform) the training AND the testing sets\n",
    "# using the scaler that was fitted to traning data\n",
    "X_train_std = sc.transform(X_train)\n",
    "X_test_std = sc.transform(X_test)"
   ]
  },
  {
   "cell_type": "code",
   "execution_count": 27,
   "metadata": {},
   "outputs": [],
   "source": [
    "# we will select a subset of the features\n",
    "#X_train_std = X_train_std[:,[2,3]]\n",
    "#X_test_std = X_test_std[:, [2,3]]"
   ]
  },
  {
   "cell_type": "code",
   "execution_count": 28,
   "metadata": {
    "scrolled": true
   },
   "outputs": [
    {
     "name": "stdout",
     "output_type": "stream",
     "text": [
      "Unique labels: [0 1 2]\n",
      "accuracy: 98.15%\n"
     ]
    }
   ],
   "source": [
    "svm = MySVM(X_train_std, y_train)\n",
    "# make predictions\n",
    "y_pred = svm.predict(X_test_std)\n",
    "    \n",
    "# we can measure performance using the 'accuracy_score'\n",
    "# convenience function in sklearn\n",
    "print(\"accuracy: {0:.2f}%\".format(accuracy_score(y_test, y_pred)*100))"
   ]
  },
  {
   "cell_type": "markdown",
   "metadata": {},
   "source": [
    "# Provide quantitative evidence for generalization using the provided dataset"
   ]
  },
  {
   "cell_type": "markdown",
   "metadata": {},
   "source": [
    "## Banknote dataset"
   ]
  },
  {
   "cell_type": "markdown",
   "metadata": {},
   "source": [
    "Let's use SVC to classify the genuine and fake banknotes. We will use `accuracy_score()` function from Scikit Learn library to measure the error when predicting new values"
   ]
  },
  {
   "cell_type": "code",
   "execution_count": 29,
   "metadata": {},
   "outputs": [],
   "source": [
    "dataset = ReadData(\"data_banknote_authentication.txt\")\n",
    "\n",
    "X = []\n",
    "y = []\n",
    "# Extract the classification label and store it in list y\n",
    "for entry in dataset:\n",
    "    row = entry[0:-1]\n",
    "    X.append(np.array(row))\n",
    "    if entry[-1] == 0.0:\n",
    "        y.append(0)\n",
    "    else:\n",
    "        y.append(1)\n",
    "\n",
    "# Transform both list to a np.array\n",
    "X = np.array(X)\n",
    "y = np.array(y)"
   ]
  },
  {
   "cell_type": "code",
   "execution_count": 30,
   "metadata": {},
   "outputs": [],
   "source": [
    "# Now we'll use 'train_test_split' from sklearn\n",
    "# to split the data into training and testing sets\n",
    "test_size = 0.3\n",
    "random_state = 0\n",
    "\n",
    "# 'train_test_split' convinience function\n",
    "X_train, X_test, y_train, y_test = train_test_split(X, y, test_size=test_size, random_state=random_state)"
   ]
  },
  {
   "cell_type": "code",
   "execution_count": 31,
   "metadata": {},
   "outputs": [],
   "source": [
    "# standarize the data like we did before, but use\n",
    "# the 'StandardScaler'\n",
    "    \n",
    "# create the instance\n",
    "sc = StandardScaler()\n",
    "    \n",
    "# fit the scaler to the training feature set ONLY\n",
    "sc.fit(X_train)\n",
    "\n",
    "# scale (transform) the training AND the testing sets\n",
    "# using the scaler that was fitted to traning data\n",
    "X_train_std = sc.transform(X_train)\n",
    "X_test_std = sc.transform(X_test)"
   ]
  },
  {
   "cell_type": "code",
   "execution_count": 32,
   "metadata": {},
   "outputs": [
    {
     "name": "stdout",
     "output_type": "stream",
     "text": [
      "Unique labels: [0 1]\n",
      "accuracy: 98.54%\n"
     ]
    }
   ],
   "source": [
    "svm = MySVM(X_train_std, y_train)\n",
    "# make predictions\n",
    "y_pred = svm.predict(X_test_std)\n",
    "    \n",
    "# we can measure performance using the 'accuracy_score'\n",
    "# convenience function in sklearn\n",
    "print(\"accuracy: {0:.2f}%\".format(accuracy_score(y_test, y_pred)*100))"
   ]
  },
  {
   "cell_type": "markdown",
   "metadata": {},
   "source": [
    "Generalization means that our SVM can predict correctly non-previously observed data, which is exactly what our SVM did in this dataset, just misclassifying 2% of our dataset. Therefore, we can conclude that we've obtained generalization for this dataset with our SVM.  "
   ]
  },
  {
   "cell_type": "markdown",
   "metadata": {},
   "source": [
    "## Occupancy dataset"
   ]
  },
  {
   "cell_type": "markdown",
   "metadata": {},
   "source": [
    "Now let's do the same thing with the other dataset"
   ]
  },
  {
   "cell_type": "code",
   "execution_count": 33,
   "metadata": {},
   "outputs": [],
   "source": [
    "dataset=[]\n",
    "with open(\"datatest.txt\") as f:\n",
    "    title = True\n",
    "    for line in f.readlines():\n",
    "        # Ignore the labels\n",
    "        if title == True:\n",
    "            title = False\n",
    "            continue\n",
    "        \n",
    "        # Split, ignore the dates and index values, and finally\n",
    "        # convert the values to float\n",
    "        raw_line=line.split(\",\")\n",
    "        raw_line=raw_line[2:]\n",
    "        raw_line=[float(x) for x in raw_line]\n",
    "        \n",
    "        # Store the transformed sample\n",
    "        dataset.append(raw_line)\n",
    "\n",
    "X = []\n",
    "y = []\n",
    "\n",
    "# Extract the last value from the samples, which is the class of\n",
    "# the sample\n",
    "for entry in dataset:\n",
    "    row = entry[0:-1]\n",
    "    X.append(np.array(row))\n",
    "    if entry[-1] == 0:\n",
    "        y.append(0)\n",
    "    else:\n",
    "        y.append(1)"
   ]
  },
  {
   "cell_type": "code",
   "execution_count": 34,
   "metadata": {},
   "outputs": [],
   "source": [
    "dataset2 = []\n",
    "with open(\"datatest2.txt\") as f:\n",
    "    title = True\n",
    "    for line in f.readlines():\n",
    "        if title == True:\n",
    "            title = False\n",
    "            continue\n",
    "        raw_line=line.split(\",\")\n",
    "        raw_line=raw_line[2:]\n",
    "        raw_line=[float(x) for x in raw_line]\n",
    "        dataset2.append(raw_line)\n",
    "\n",
    "for entry in dataset2:\n",
    "    row = entry[0:-1]\n",
    "    X.append(np.array(row))\n",
    "    if entry[-1] == 0:\n",
    "        y.append(0)\n",
    "    else:\n",
    "        y.append(1)\n",
    "\n",
    "# Transform the list from datatest and datatest2 into a numpy array\n",
    "X = np.array(X)\n",
    "y = np.array(y)"
   ]
  },
  {
   "cell_type": "code",
   "execution_count": 35,
   "metadata": {},
   "outputs": [],
   "source": [
    "train_dataset = []\n",
    "with open(\"datatraining.txt\") as f:\n",
    "    title = True\n",
    "    for line in f.readlines():\n",
    "        if title == True:\n",
    "            title = False\n",
    "            continue\n",
    "        raw_line=line.split(\",\")\n",
    "        raw_line=raw_line[2:]\n",
    "        raw_line=[float(x) for x in raw_line]\n",
    "        train_dataset.append(raw_line)\n",
    "\n",
    "X_train = []\n",
    "y_train = []\n",
    "for entry in train_dataset:\n",
    "    row = entry[0:-1]\n",
    "    X_train.append(np.array(row))\n",
    "    if entry[-1] == 0:\n",
    "        y_train.append(0)\n",
    "    else:\n",
    "        y_train.append(1)\n",
    "        \n",
    "X_train = np.array(X_train)\n",
    "y_train = np.array(y_train)"
   ]
  },
  {
   "cell_type": "code",
   "execution_count": 36,
   "metadata": {},
   "outputs": [],
   "source": [
    "# standarize the data like we did before, but use\n",
    "# the 'StandardScaler'\n",
    "    \n",
    "# create the instance\n",
    "sc = StandardScaler()\n",
    "    \n",
    "# fit the scaler to the training feature set ONLY\n",
    "sc.fit(X_train)\n",
    "\n",
    "# scale (transform) the training AND the testing sets\n",
    "# using the scaler that was fitted to traning data\n",
    "X_train_std = sc.transform(X_train)\n",
    "X_test_std = sc.transform(X)"
   ]
  },
  {
   "cell_type": "code",
   "execution_count": 37,
   "metadata": {},
   "outputs": [
    {
     "name": "stdout",
     "output_type": "stream",
     "text": [
      "Unique labels: [0 1]\n",
      "accuracy: 98.95%\n"
     ]
    }
   ],
   "source": [
    "svm = MySVM(X_train_std, y_train)\n",
    "# make predictions\n",
    "y_pred = svm.predict(X_test_std)\n",
    "    \n",
    "# we can measure performance using the 'accuracy_score'\n",
    "# convenience function in sklearn\n",
    "print(\"accuracy: {0:.2f}%\".format(accuracy_score(y, y_pred)*100))"
   ]
  },
  {
   "cell_type": "markdown",
   "metadata": {},
   "source": [
    "Now, this tells us the accuracy of our SVM based on its prediction on both datasets. As you can see, our SVM made nearly no mistake classifying a not observed dataset, giving as a high confidence of generalization. "
   ]
  },
  {
   "cell_type": "markdown",
   "metadata": {},
   "source": [
    "# Feature engineering"
   ]
  },
  {
   "cell_type": "markdown",
   "metadata": {},
   "source": [
    "In this last section we would like to analyze the feature engineering relevant details that could enhance the performance of the aforementioned model and even propose one which could perform better."
   ]
  },
  {
   "cell_type": "markdown",
   "metadata": {},
   "source": [
    "## One-Hot Encoding for occupancy dataset"
   ]
  },
  {
   "cell_type": "markdown",
   "metadata": {},
   "source": [
    "If we look carefully, the Occupancy dataset posses a non-numerical feature called *date*, which had not been taking in consideration when training and testing the SVM model. However, this feature could contain relevant information about the occupancy of certain room, so removing it from the dataset could lead to a less informative dataset that could end up in a biased ML model.\n",
    "\n",
    "In order to solve this problem we can use *One-Hot Encoding*, a method that transforms categorical features in several numerical or binary ones. This can be applied to our dataset in the following way"
   ]
  },
  {
   "cell_type": "code",
   "execution_count": 1,
   "metadata": {},
   "outputs": [],
   "source": [
    "import pandas as pd"
   ]
  },
  {
   "cell_type": "code",
   "execution_count": 2,
   "metadata": {},
   "outputs": [],
   "source": [
    "occupancy = pd.read_csv('datatest.txt')"
   ]
  },
  {
   "cell_type": "code",
   "execution_count": 3,
   "metadata": {},
   "outputs": [
    {
     "data": {
      "text/html": [
       "<div>\n",
       "<style scoped>\n",
       "    .dataframe tbody tr th:only-of-type {\n",
       "        vertical-align: middle;\n",
       "    }\n",
       "\n",
       "    .dataframe tbody tr th {\n",
       "        vertical-align: top;\n",
       "    }\n",
       "\n",
       "    .dataframe thead th {\n",
       "        text-align: right;\n",
       "    }\n",
       "</style>\n",
       "<table border=\"1\" class=\"dataframe\">\n",
       "  <thead>\n",
       "    <tr style=\"text-align: right;\">\n",
       "      <th></th>\n",
       "      <th>date</th>\n",
       "      <th>Temperature</th>\n",
       "      <th>Humidity</th>\n",
       "      <th>Light</th>\n",
       "      <th>CO2</th>\n",
       "      <th>HumidityRatio</th>\n",
       "      <th>Occupancy</th>\n",
       "    </tr>\n",
       "  </thead>\n",
       "  <tbody>\n",
       "    <tr>\n",
       "      <th>140</th>\n",
       "      <td>2015-02-02 14:19:00</td>\n",
       "      <td>23.7000</td>\n",
       "      <td>26.272</td>\n",
       "      <td>585.200000</td>\n",
       "      <td>749.200000</td>\n",
       "      <td>0.004764</td>\n",
       "      <td>1</td>\n",
       "    </tr>\n",
       "    <tr>\n",
       "      <th>141</th>\n",
       "      <td>2015-02-02 14:19:59</td>\n",
       "      <td>23.7180</td>\n",
       "      <td>26.290</td>\n",
       "      <td>578.400000</td>\n",
       "      <td>760.400000</td>\n",
       "      <td>0.004773</td>\n",
       "      <td>1</td>\n",
       "    </tr>\n",
       "    <tr>\n",
       "      <th>142</th>\n",
       "      <td>2015-02-02 14:21:00</td>\n",
       "      <td>23.7300</td>\n",
       "      <td>26.230</td>\n",
       "      <td>572.666667</td>\n",
       "      <td>769.666667</td>\n",
       "      <td>0.004765</td>\n",
       "      <td>1</td>\n",
       "    </tr>\n",
       "    <tr>\n",
       "      <th>143</th>\n",
       "      <td>2015-02-02 14:22:00</td>\n",
       "      <td>23.7225</td>\n",
       "      <td>26.125</td>\n",
       "      <td>493.750000</td>\n",
       "      <td>774.750000</td>\n",
       "      <td>0.004744</td>\n",
       "      <td>1</td>\n",
       "    </tr>\n",
       "    <tr>\n",
       "      <th>144</th>\n",
       "      <td>2015-02-02 14:23:00</td>\n",
       "      <td>23.7540</td>\n",
       "      <td>26.200</td>\n",
       "      <td>488.600000</td>\n",
       "      <td>779.000000</td>\n",
       "      <td>0.004767</td>\n",
       "      <td>1</td>\n",
       "    </tr>\n",
       "  </tbody>\n",
       "</table>\n",
       "</div>"
      ],
      "text/plain": [
       "                    date  Temperature  Humidity       Light         CO2  \\\n",
       "140  2015-02-02 14:19:00      23.7000    26.272  585.200000  749.200000   \n",
       "141  2015-02-02 14:19:59      23.7180    26.290  578.400000  760.400000   \n",
       "142  2015-02-02 14:21:00      23.7300    26.230  572.666667  769.666667   \n",
       "143  2015-02-02 14:22:00      23.7225    26.125  493.750000  774.750000   \n",
       "144  2015-02-02 14:23:00      23.7540    26.200  488.600000  779.000000   \n",
       "\n",
       "     HumidityRatio  Occupancy  \n",
       "140       0.004764          1  \n",
       "141       0.004773          1  \n",
       "142       0.004765          1  \n",
       "143       0.004744          1  \n",
       "144       0.004767          1  "
      ]
     },
     "execution_count": 3,
     "metadata": {},
     "output_type": "execute_result"
    }
   ],
   "source": [
    "occupancy.head()"
   ]
  },
  {
   "cell_type": "code",
   "execution_count": 4,
   "metadata": {},
   "outputs": [
    {
     "name": "stdout",
     "output_type": "stream",
     "text": [
      "<class 'pandas.core.frame.DataFrame'>\n",
      "Int64Index: 2665 entries, 140 to 2804\n",
      "Data columns (total 7 columns):\n",
      " #   Column         Non-Null Count  Dtype  \n",
      "---  ------         --------------  -----  \n",
      " 0   date           2665 non-null   object \n",
      " 1   Temperature    2665 non-null   float64\n",
      " 2   Humidity       2665 non-null   float64\n",
      " 3   Light          2665 non-null   float64\n",
      " 4   CO2            2665 non-null   float64\n",
      " 5   HumidityRatio  2665 non-null   float64\n",
      " 6   Occupancy      2665 non-null   int64  \n",
      "dtypes: float64(5), int64(1), object(1)\n",
      "memory usage: 166.6+ KB\n"
     ]
    }
   ],
   "source": [
    "occupancy.info()"
   ]
  },
  {
   "cell_type": "markdown",
   "metadata": {},
   "source": [
    "Here we can see the format of our date feature, and how is the only categorical feature present in our dataset. Many ML models need numerical features to work and that's why we will transform this categorical feature into 3 or more numerical features"
   ]
  },
  {
   "cell_type": "markdown",
   "metadata": {},
   "source": [
    "First, we need to convert the date into a DateTime Object"
   ]
  },
  {
   "cell_type": "code",
   "execution_count": 5,
   "metadata": {},
   "outputs": [],
   "source": [
    "occupancy['date'] = pd.to_datetime(occupancy['date'])"
   ]
  },
  {
   "cell_type": "code",
   "execution_count": 6,
   "metadata": {},
   "outputs": [
    {
     "name": "stdout",
     "output_type": "stream",
     "text": [
      "<class 'pandas.core.frame.DataFrame'>\n",
      "Int64Index: 2665 entries, 140 to 2804\n",
      "Data columns (total 7 columns):\n",
      " #   Column         Non-Null Count  Dtype         \n",
      "---  ------         --------------  -----         \n",
      " 0   date           2665 non-null   datetime64[ns]\n",
      " 1   Temperature    2665 non-null   float64       \n",
      " 2   Humidity       2665 non-null   float64       \n",
      " 3   Light          2665 non-null   float64       \n",
      " 4   CO2            2665 non-null   float64       \n",
      " 5   HumidityRatio  2665 non-null   float64       \n",
      " 6   Occupancy      2665 non-null   int64         \n",
      "dtypes: datetime64[ns](1), float64(5), int64(1)\n",
      "memory usage: 166.6 KB\n"
     ]
    }
   ],
   "source": [
    "occupancy.info()"
   ]
  },
  {
   "cell_type": "markdown",
   "metadata": {},
   "source": [
    "Once we've made this, we will use different to extract useful numerical features for our dataset"
   ]
  },
  {
   "cell_type": "markdown",
   "metadata": {},
   "source": [
    "### Extract day"
   ]
  },
  {
   "cell_type": "code",
   "execution_count": 7,
   "metadata": {},
   "outputs": [
    {
     "data": {
      "text/html": [
       "<div>\n",
       "<style scoped>\n",
       "    .dataframe tbody tr th:only-of-type {\n",
       "        vertical-align: middle;\n",
       "    }\n",
       "\n",
       "    .dataframe tbody tr th {\n",
       "        vertical-align: top;\n",
       "    }\n",
       "\n",
       "    .dataframe thead th {\n",
       "        text-align: right;\n",
       "    }\n",
       "</style>\n",
       "<table border=\"1\" class=\"dataframe\">\n",
       "  <thead>\n",
       "    <tr style=\"text-align: right;\">\n",
       "      <th></th>\n",
       "      <th>date</th>\n",
       "      <th>Temperature</th>\n",
       "      <th>Humidity</th>\n",
       "      <th>Light</th>\n",
       "      <th>CO2</th>\n",
       "      <th>HumidityRatio</th>\n",
       "      <th>Occupancy</th>\n",
       "      <th>date_day</th>\n",
       "    </tr>\n",
       "  </thead>\n",
       "  <tbody>\n",
       "    <tr>\n",
       "      <th>2011</th>\n",
       "      <td>2015-02-03 21:29:59</td>\n",
       "      <td>21.000</td>\n",
       "      <td>26.200</td>\n",
       "      <td>0.0</td>\n",
       "      <td>619.250000</td>\n",
       "      <td>0.004027</td>\n",
       "      <td>0</td>\n",
       "      <td>3</td>\n",
       "    </tr>\n",
       "    <tr>\n",
       "      <th>529</th>\n",
       "      <td>2015-02-02 20:48:00</td>\n",
       "      <td>20.890</td>\n",
       "      <td>23.200</td>\n",
       "      <td>0.0</td>\n",
       "      <td>496.250000</td>\n",
       "      <td>0.003539</td>\n",
       "      <td>0</td>\n",
       "      <td>2</td>\n",
       "    </tr>\n",
       "    <tr>\n",
       "      <th>973</th>\n",
       "      <td>2015-02-03 04:12:00</td>\n",
       "      <td>20.350</td>\n",
       "      <td>22.500</td>\n",
       "      <td>0.0</td>\n",
       "      <td>429.200000</td>\n",
       "      <td>0.003319</td>\n",
       "      <td>0</td>\n",
       "      <td>3</td>\n",
       "    </tr>\n",
       "    <tr>\n",
       "      <th>306</th>\n",
       "      <td>2015-02-02 17:05:00</td>\n",
       "      <td>22.600</td>\n",
       "      <td>25.000</td>\n",
       "      <td>433.0</td>\n",
       "      <td>836.250000</td>\n",
       "      <td>0.004238</td>\n",
       "      <td>1</td>\n",
       "      <td>2</td>\n",
       "    </tr>\n",
       "    <tr>\n",
       "      <th>2694</th>\n",
       "      <td>2015-02-04 08:53:00</td>\n",
       "      <td>21.215</td>\n",
       "      <td>25.215</td>\n",
       "      <td>456.5</td>\n",
       "      <td>746.166667</td>\n",
       "      <td>0.003926</td>\n",
       "      <td>1</td>\n",
       "      <td>4</td>\n",
       "    </tr>\n",
       "  </tbody>\n",
       "</table>\n",
       "</div>"
      ],
      "text/plain": [
       "                    date  Temperature  Humidity  Light         CO2  \\\n",
       "2011 2015-02-03 21:29:59       21.000    26.200    0.0  619.250000   \n",
       "529  2015-02-02 20:48:00       20.890    23.200    0.0  496.250000   \n",
       "973  2015-02-03 04:12:00       20.350    22.500    0.0  429.200000   \n",
       "306  2015-02-02 17:05:00       22.600    25.000  433.0  836.250000   \n",
       "2694 2015-02-04 08:53:00       21.215    25.215  456.5  746.166667   \n",
       "\n",
       "      HumidityRatio  Occupancy  date_day  \n",
       "2011       0.004027          0         3  \n",
       "529        0.003539          0         2  \n",
       "973        0.003319          0         3  \n",
       "306        0.004238          1         2  \n",
       "2694       0.003926          1         4  "
      ]
     },
     "execution_count": 7,
     "metadata": {},
     "output_type": "execute_result"
    }
   ],
   "source": [
    "occupancy['date_day'] = occupancy['date'].dt.day\n",
    "occupancy.sample(5)"
   ]
  },
  {
   "cell_type": "markdown",
   "metadata": {},
   "source": [
    "### Extract hour"
   ]
  },
  {
   "cell_type": "code",
   "execution_count": 8,
   "metadata": {
    "scrolled": true
   },
   "outputs": [
    {
     "data": {
      "text/html": [
       "<div>\n",
       "<style scoped>\n",
       "    .dataframe tbody tr th:only-of-type {\n",
       "        vertical-align: middle;\n",
       "    }\n",
       "\n",
       "    .dataframe tbody tr th {\n",
       "        vertical-align: top;\n",
       "    }\n",
       "\n",
       "    .dataframe thead th {\n",
       "        text-align: right;\n",
       "    }\n",
       "</style>\n",
       "<table border=\"1\" class=\"dataframe\">\n",
       "  <thead>\n",
       "    <tr style=\"text-align: right;\">\n",
       "      <th></th>\n",
       "      <th>date</th>\n",
       "      <th>Temperature</th>\n",
       "      <th>Humidity</th>\n",
       "      <th>Light</th>\n",
       "      <th>CO2</th>\n",
       "      <th>HumidityRatio</th>\n",
       "      <th>Occupancy</th>\n",
       "      <th>date_day</th>\n",
       "      <th>date_hour</th>\n",
       "    </tr>\n",
       "  </thead>\n",
       "  <tbody>\n",
       "    <tr>\n",
       "      <th>2336</th>\n",
       "      <td>2015-02-04 02:55:00</td>\n",
       "      <td>20.700</td>\n",
       "      <td>25.00</td>\n",
       "      <td>0.0</td>\n",
       "      <td>483.333333</td>\n",
       "      <td>0.003770</td>\n",
       "      <td>0</td>\n",
       "      <td>4</td>\n",
       "      <td>2</td>\n",
       "    </tr>\n",
       "    <tr>\n",
       "      <th>2210</th>\n",
       "      <td>2015-02-04 00:49:00</td>\n",
       "      <td>20.790</td>\n",
       "      <td>25.00</td>\n",
       "      <td>0.0</td>\n",
       "      <td>532.000000</td>\n",
       "      <td>0.003792</td>\n",
       "      <td>0</td>\n",
       "      <td>4</td>\n",
       "      <td>0</td>\n",
       "    </tr>\n",
       "    <tr>\n",
       "      <th>2231</th>\n",
       "      <td>2015-02-04 01:09:59</td>\n",
       "      <td>20.790</td>\n",
       "      <td>24.89</td>\n",
       "      <td>0.0</td>\n",
       "      <td>523.000000</td>\n",
       "      <td>0.003775</td>\n",
       "      <td>0</td>\n",
       "      <td>4</td>\n",
       "      <td>1</td>\n",
       "    </tr>\n",
       "    <tr>\n",
       "      <th>2639</th>\n",
       "      <td>2015-02-04 07:58:00</td>\n",
       "      <td>20.700</td>\n",
       "      <td>24.50</td>\n",
       "      <td>408.0</td>\n",
       "      <td>546.250000</td>\n",
       "      <td>0.003695</td>\n",
       "      <td>1</td>\n",
       "      <td>4</td>\n",
       "      <td>7</td>\n",
       "    </tr>\n",
       "    <tr>\n",
       "      <th>1819</th>\n",
       "      <td>2015-02-03 18:17:59</td>\n",
       "      <td>22.445</td>\n",
       "      <td>30.10</td>\n",
       "      <td>0.0</td>\n",
       "      <td>1189.250000</td>\n",
       "      <td>0.005062</td>\n",
       "      <td>0</td>\n",
       "      <td>3</td>\n",
       "      <td>18</td>\n",
       "    </tr>\n",
       "  </tbody>\n",
       "</table>\n",
       "</div>"
      ],
      "text/plain": [
       "                    date  Temperature  Humidity  Light          CO2  \\\n",
       "2336 2015-02-04 02:55:00       20.700     25.00    0.0   483.333333   \n",
       "2210 2015-02-04 00:49:00       20.790     25.00    0.0   532.000000   \n",
       "2231 2015-02-04 01:09:59       20.790     24.89    0.0   523.000000   \n",
       "2639 2015-02-04 07:58:00       20.700     24.50  408.0   546.250000   \n",
       "1819 2015-02-03 18:17:59       22.445     30.10    0.0  1189.250000   \n",
       "\n",
       "      HumidityRatio  Occupancy  date_day  date_hour  \n",
       "2336       0.003770          0         4          2  \n",
       "2210       0.003792          0         4          0  \n",
       "2231       0.003775          0         4          1  \n",
       "2639       0.003695          1         4          7  \n",
       "1819       0.005062          0         3         18  "
      ]
     },
     "execution_count": 8,
     "metadata": {},
     "output_type": "execute_result"
    }
   ],
   "source": [
    "occupancy['date_hour'] = occupancy['date'].dt.hour\n",
    "occupancy.sample(5)"
   ]
  },
  {
   "cell_type": "markdown",
   "metadata": {},
   "source": [
    "### Extract minutes"
   ]
  },
  {
   "cell_type": "code",
   "execution_count": 9,
   "metadata": {
    "scrolled": true
   },
   "outputs": [
    {
     "data": {
      "text/html": [
       "<div>\n",
       "<style scoped>\n",
       "    .dataframe tbody tr th:only-of-type {\n",
       "        vertical-align: middle;\n",
       "    }\n",
       "\n",
       "    .dataframe tbody tr th {\n",
       "        vertical-align: top;\n",
       "    }\n",
       "\n",
       "    .dataframe thead th {\n",
       "        text-align: right;\n",
       "    }\n",
       "</style>\n",
       "<table border=\"1\" class=\"dataframe\">\n",
       "  <thead>\n",
       "    <tr style=\"text-align: right;\">\n",
       "      <th></th>\n",
       "      <th>date</th>\n",
       "      <th>Temperature</th>\n",
       "      <th>Humidity</th>\n",
       "      <th>Light</th>\n",
       "      <th>CO2</th>\n",
       "      <th>HumidityRatio</th>\n",
       "      <th>Occupancy</th>\n",
       "      <th>date_day</th>\n",
       "      <th>date_hour</th>\n",
       "      <th>date_minutes</th>\n",
       "    </tr>\n",
       "  </thead>\n",
       "  <tbody>\n",
       "    <tr>\n",
       "      <th>557</th>\n",
       "      <td>2015-02-02 21:16:00</td>\n",
       "      <td>20.890000</td>\n",
       "      <td>22.945000</td>\n",
       "      <td>0.000000</td>\n",
       "      <td>485.250000</td>\n",
       "      <td>0.003500</td>\n",
       "      <td>0</td>\n",
       "      <td>2</td>\n",
       "      <td>21</td>\n",
       "      <td>16</td>\n",
       "    </tr>\n",
       "    <tr>\n",
       "      <th>2274</th>\n",
       "      <td>2015-02-04 01:53:00</td>\n",
       "      <td>20.700000</td>\n",
       "      <td>25.100000</td>\n",
       "      <td>0.000000</td>\n",
       "      <td>513.333333</td>\n",
       "      <td>0.003786</td>\n",
       "      <td>0</td>\n",
       "      <td>4</td>\n",
       "      <td>1</td>\n",
       "      <td>53</td>\n",
       "    </tr>\n",
       "    <tr>\n",
       "      <th>1324</th>\n",
       "      <td>2015-02-03 10:02:59</td>\n",
       "      <td>21.600000</td>\n",
       "      <td>27.600000</td>\n",
       "      <td>479.000000</td>\n",
       "      <td>1033.500000</td>\n",
       "      <td>0.004403</td>\n",
       "      <td>1</td>\n",
       "      <td>3</td>\n",
       "      <td>10</td>\n",
       "      <td>2</td>\n",
       "    </tr>\n",
       "    <tr>\n",
       "      <th>1276</th>\n",
       "      <td>2015-02-03 09:15:00</td>\n",
       "      <td>21.183333</td>\n",
       "      <td>25.198333</td>\n",
       "      <td>454.666667</td>\n",
       "      <td>754.333333</td>\n",
       "      <td>0.003916</td>\n",
       "      <td>1</td>\n",
       "      <td>3</td>\n",
       "      <td>9</td>\n",
       "      <td>15</td>\n",
       "    </tr>\n",
       "    <tr>\n",
       "      <th>2451</th>\n",
       "      <td>2015-02-04 04:50:00</td>\n",
       "      <td>20.700000</td>\n",
       "      <td>24.500000</td>\n",
       "      <td>0.000000</td>\n",
       "      <td>472.333333</td>\n",
       "      <td>0.003695</td>\n",
       "      <td>0</td>\n",
       "      <td>4</td>\n",
       "      <td>4</td>\n",
       "      <td>50</td>\n",
       "    </tr>\n",
       "  </tbody>\n",
       "</table>\n",
       "</div>"
      ],
      "text/plain": [
       "                    date  Temperature   Humidity       Light          CO2  \\\n",
       "557  2015-02-02 21:16:00    20.890000  22.945000    0.000000   485.250000   \n",
       "2274 2015-02-04 01:53:00    20.700000  25.100000    0.000000   513.333333   \n",
       "1324 2015-02-03 10:02:59    21.600000  27.600000  479.000000  1033.500000   \n",
       "1276 2015-02-03 09:15:00    21.183333  25.198333  454.666667   754.333333   \n",
       "2451 2015-02-04 04:50:00    20.700000  24.500000    0.000000   472.333333   \n",
       "\n",
       "      HumidityRatio  Occupancy  date_day  date_hour  date_minutes  \n",
       "557        0.003500          0         2         21            16  \n",
       "2274       0.003786          0         4          1            53  \n",
       "1324       0.004403          1         3         10             2  \n",
       "1276       0.003916          1         3          9            15  \n",
       "2451       0.003695          0         4          4            50  "
      ]
     },
     "execution_count": 9,
     "metadata": {},
     "output_type": "execute_result"
    }
   ],
   "source": [
    "occupancy['date_minutes'] = occupancy['date'].dt.minute\n",
    "occupancy.sample(5)"
   ]
  },
  {
   "cell_type": "markdown",
   "metadata": {},
   "source": [
    "### Extract seconds"
   ]
  },
  {
   "cell_type": "code",
   "execution_count": 10,
   "metadata": {},
   "outputs": [
    {
     "data": {
      "text/html": [
       "<div>\n",
       "<style scoped>\n",
       "    .dataframe tbody tr th:only-of-type {\n",
       "        vertical-align: middle;\n",
       "    }\n",
       "\n",
       "    .dataframe tbody tr th {\n",
       "        vertical-align: top;\n",
       "    }\n",
       "\n",
       "    .dataframe thead th {\n",
       "        text-align: right;\n",
       "    }\n",
       "</style>\n",
       "<table border=\"1\" class=\"dataframe\">\n",
       "  <thead>\n",
       "    <tr style=\"text-align: right;\">\n",
       "      <th></th>\n",
       "      <th>date</th>\n",
       "      <th>Temperature</th>\n",
       "      <th>Humidity</th>\n",
       "      <th>Light</th>\n",
       "      <th>CO2</th>\n",
       "      <th>HumidityRatio</th>\n",
       "      <th>Occupancy</th>\n",
       "      <th>date_day</th>\n",
       "      <th>date_hour</th>\n",
       "      <th>date_minutes</th>\n",
       "      <th>date_seconds</th>\n",
       "    </tr>\n",
       "  </thead>\n",
       "  <tbody>\n",
       "    <tr>\n",
       "      <th>2018</th>\n",
       "      <td>2015-02-03 21:36:59</td>\n",
       "      <td>21.0</td>\n",
       "      <td>26.100000</td>\n",
       "      <td>0.000000</td>\n",
       "      <td>613.600000</td>\n",
       "      <td>0.004011</td>\n",
       "      <td>0</td>\n",
       "      <td>3</td>\n",
       "      <td>21</td>\n",
       "      <td>36</td>\n",
       "      <td>59</td>\n",
       "    </tr>\n",
       "    <tr>\n",
       "      <th>2392</th>\n",
       "      <td>2015-02-04 03:51:00</td>\n",
       "      <td>20.7</td>\n",
       "      <td>24.633333</td>\n",
       "      <td>0.000000</td>\n",
       "      <td>477.333333</td>\n",
       "      <td>0.003715</td>\n",
       "      <td>0</td>\n",
       "      <td>4</td>\n",
       "      <td>3</td>\n",
       "      <td>51</td>\n",
       "      <td>0</td>\n",
       "    </tr>\n",
       "    <tr>\n",
       "      <th>2631</th>\n",
       "      <td>2015-02-04 07:50:00</td>\n",
       "      <td>20.6</td>\n",
       "      <td>24.175000</td>\n",
       "      <td>407.500000</td>\n",
       "      <td>522.250000</td>\n",
       "      <td>0.003623</td>\n",
       "      <td>0</td>\n",
       "      <td>4</td>\n",
       "      <td>7</td>\n",
       "      <td>50</td>\n",
       "      <td>0</td>\n",
       "    </tr>\n",
       "    <tr>\n",
       "      <th>2409</th>\n",
       "      <td>2015-02-04 04:08:00</td>\n",
       "      <td>20.7</td>\n",
       "      <td>24.600000</td>\n",
       "      <td>0.000000</td>\n",
       "      <td>465.250000</td>\n",
       "      <td>0.003710</td>\n",
       "      <td>0</td>\n",
       "      <td>4</td>\n",
       "      <td>4</td>\n",
       "      <td>8</td>\n",
       "      <td>0</td>\n",
       "    </tr>\n",
       "    <tr>\n",
       "      <th>1195</th>\n",
       "      <td>2015-02-03 07:53:59</td>\n",
       "      <td>20.5</td>\n",
       "      <td>23.890000</td>\n",
       "      <td>407.666667</td>\n",
       "      <td>523.666667</td>\n",
       "      <td>0.003558</td>\n",
       "      <td>1</td>\n",
       "      <td>3</td>\n",
       "      <td>7</td>\n",
       "      <td>53</td>\n",
       "      <td>59</td>\n",
       "    </tr>\n",
       "  </tbody>\n",
       "</table>\n",
       "</div>"
      ],
      "text/plain": [
       "                    date  Temperature   Humidity       Light         CO2  \\\n",
       "2018 2015-02-03 21:36:59         21.0  26.100000    0.000000  613.600000   \n",
       "2392 2015-02-04 03:51:00         20.7  24.633333    0.000000  477.333333   \n",
       "2631 2015-02-04 07:50:00         20.6  24.175000  407.500000  522.250000   \n",
       "2409 2015-02-04 04:08:00         20.7  24.600000    0.000000  465.250000   \n",
       "1195 2015-02-03 07:53:59         20.5  23.890000  407.666667  523.666667   \n",
       "\n",
       "      HumidityRatio  Occupancy  date_day  date_hour  date_minutes  \\\n",
       "2018       0.004011          0         3         21            36   \n",
       "2392       0.003715          0         4          3            51   \n",
       "2631       0.003623          0         4          7            50   \n",
       "2409       0.003710          0         4          4             8   \n",
       "1195       0.003558          1         3          7            53   \n",
       "\n",
       "      date_seconds  \n",
       "2018            59  \n",
       "2392             0  \n",
       "2631             0  \n",
       "2409             0  \n",
       "1195            59  "
      ]
     },
     "execution_count": 10,
     "metadata": {},
     "output_type": "execute_result"
    }
   ],
   "source": [
    "occupancy['date_seconds'] = occupancy['date'].dt.second\n",
    "occupancy.sample(5)"
   ]
  },
  {
   "cell_type": "markdown",
   "metadata": {},
   "source": [
    "We decided to extract the day, hour and minute and not the month or year, because for our entire dataset the month and year are the same, so this is uninformative for our ML model."
   ]
  },
  {
   "cell_type": "markdown",
   "metadata": {},
   "source": [
    "Once we've done this, we can now remove the date feature"
   ]
  },
  {
   "cell_type": "code",
   "execution_count": 11,
   "metadata": {},
   "outputs": [
    {
     "data": {
      "text/html": [
       "<div>\n",
       "<style scoped>\n",
       "    .dataframe tbody tr th:only-of-type {\n",
       "        vertical-align: middle;\n",
       "    }\n",
       "\n",
       "    .dataframe tbody tr th {\n",
       "        vertical-align: top;\n",
       "    }\n",
       "\n",
       "    .dataframe thead th {\n",
       "        text-align: right;\n",
       "    }\n",
       "</style>\n",
       "<table border=\"1\" class=\"dataframe\">\n",
       "  <thead>\n",
       "    <tr style=\"text-align: right;\">\n",
       "      <th></th>\n",
       "      <th>Temperature</th>\n",
       "      <th>Humidity</th>\n",
       "      <th>Light</th>\n",
       "      <th>CO2</th>\n",
       "      <th>HumidityRatio</th>\n",
       "      <th>Occupancy</th>\n",
       "      <th>date_day</th>\n",
       "      <th>date_hour</th>\n",
       "      <th>date_minutes</th>\n",
       "      <th>date_seconds</th>\n",
       "    </tr>\n",
       "  </thead>\n",
       "  <tbody>\n",
       "    <tr>\n",
       "      <th>140</th>\n",
       "      <td>23.7000</td>\n",
       "      <td>26.272</td>\n",
       "      <td>585.200000</td>\n",
       "      <td>749.200000</td>\n",
       "      <td>0.004764</td>\n",
       "      <td>1</td>\n",
       "      <td>2</td>\n",
       "      <td>14</td>\n",
       "      <td>19</td>\n",
       "      <td>0</td>\n",
       "    </tr>\n",
       "    <tr>\n",
       "      <th>141</th>\n",
       "      <td>23.7180</td>\n",
       "      <td>26.290</td>\n",
       "      <td>578.400000</td>\n",
       "      <td>760.400000</td>\n",
       "      <td>0.004773</td>\n",
       "      <td>1</td>\n",
       "      <td>2</td>\n",
       "      <td>14</td>\n",
       "      <td>19</td>\n",
       "      <td>59</td>\n",
       "    </tr>\n",
       "    <tr>\n",
       "      <th>142</th>\n",
       "      <td>23.7300</td>\n",
       "      <td>26.230</td>\n",
       "      <td>572.666667</td>\n",
       "      <td>769.666667</td>\n",
       "      <td>0.004765</td>\n",
       "      <td>1</td>\n",
       "      <td>2</td>\n",
       "      <td>14</td>\n",
       "      <td>21</td>\n",
       "      <td>0</td>\n",
       "    </tr>\n",
       "    <tr>\n",
       "      <th>143</th>\n",
       "      <td>23.7225</td>\n",
       "      <td>26.125</td>\n",
       "      <td>493.750000</td>\n",
       "      <td>774.750000</td>\n",
       "      <td>0.004744</td>\n",
       "      <td>1</td>\n",
       "      <td>2</td>\n",
       "      <td>14</td>\n",
       "      <td>22</td>\n",
       "      <td>0</td>\n",
       "    </tr>\n",
       "    <tr>\n",
       "      <th>144</th>\n",
       "      <td>23.7540</td>\n",
       "      <td>26.200</td>\n",
       "      <td>488.600000</td>\n",
       "      <td>779.000000</td>\n",
       "      <td>0.004767</td>\n",
       "      <td>1</td>\n",
       "      <td>2</td>\n",
       "      <td>14</td>\n",
       "      <td>23</td>\n",
       "      <td>0</td>\n",
       "    </tr>\n",
       "  </tbody>\n",
       "</table>\n",
       "</div>"
      ],
      "text/plain": [
       "     Temperature  Humidity       Light         CO2  HumidityRatio  Occupancy  \\\n",
       "140      23.7000    26.272  585.200000  749.200000       0.004764          1   \n",
       "141      23.7180    26.290  578.400000  760.400000       0.004773          1   \n",
       "142      23.7300    26.230  572.666667  769.666667       0.004765          1   \n",
       "143      23.7225    26.125  493.750000  774.750000       0.004744          1   \n",
       "144      23.7540    26.200  488.600000  779.000000       0.004767          1   \n",
       "\n",
       "     date_day  date_hour  date_minutes  date_seconds  \n",
       "140         2         14            19             0  \n",
       "141         2         14            19            59  \n",
       "142         2         14            21             0  \n",
       "143         2         14            22             0  \n",
       "144         2         14            23             0  "
      ]
     },
     "execution_count": 11,
     "metadata": {},
     "output_type": "execute_result"
    }
   ],
   "source": [
    "occupancy = occupancy.drop('date', axis=1)\n",
    "occupancy.head()"
   ]
  },
  {
   "cell_type": "markdown",
   "metadata": {},
   "source": [
    "Let's see what happens when we train and test our SVM with this dataset"
   ]
  },
  {
   "cell_type": "code",
   "execution_count": 12,
   "metadata": {},
   "outputs": [
    {
     "data": {
      "text/html": [
       "<div>\n",
       "<style scoped>\n",
       "    .dataframe tbody tr th:only-of-type {\n",
       "        vertical-align: middle;\n",
       "    }\n",
       "\n",
       "    .dataframe tbody tr th {\n",
       "        vertical-align: top;\n",
       "    }\n",
       "\n",
       "    .dataframe thead th {\n",
       "        text-align: right;\n",
       "    }\n",
       "</style>\n",
       "<table border=\"1\" class=\"dataframe\">\n",
       "  <thead>\n",
       "    <tr style=\"text-align: right;\">\n",
       "      <th></th>\n",
       "      <th>date_day</th>\n",
       "      <th>date_hour</th>\n",
       "      <th>date_minutes</th>\n",
       "      <th>date_seconds</th>\n",
       "      <th>Temperature</th>\n",
       "      <th>Humidity</th>\n",
       "      <th>Light</th>\n",
       "      <th>CO2</th>\n",
       "      <th>HumidityRatio</th>\n",
       "      <th>Occupancy</th>\n",
       "    </tr>\n",
       "  </thead>\n",
       "  <tbody>\n",
       "    <tr>\n",
       "      <th>140</th>\n",
       "      <td>2</td>\n",
       "      <td>14</td>\n",
       "      <td>19</td>\n",
       "      <td>0</td>\n",
       "      <td>23.7000</td>\n",
       "      <td>26.272</td>\n",
       "      <td>585.200000</td>\n",
       "      <td>749.200000</td>\n",
       "      <td>0.004764</td>\n",
       "      <td>1</td>\n",
       "    </tr>\n",
       "    <tr>\n",
       "      <th>141</th>\n",
       "      <td>2</td>\n",
       "      <td>14</td>\n",
       "      <td>19</td>\n",
       "      <td>59</td>\n",
       "      <td>23.7180</td>\n",
       "      <td>26.290</td>\n",
       "      <td>578.400000</td>\n",
       "      <td>760.400000</td>\n",
       "      <td>0.004773</td>\n",
       "      <td>1</td>\n",
       "    </tr>\n",
       "    <tr>\n",
       "      <th>142</th>\n",
       "      <td>2</td>\n",
       "      <td>14</td>\n",
       "      <td>21</td>\n",
       "      <td>0</td>\n",
       "      <td>23.7300</td>\n",
       "      <td>26.230</td>\n",
       "      <td>572.666667</td>\n",
       "      <td>769.666667</td>\n",
       "      <td>0.004765</td>\n",
       "      <td>1</td>\n",
       "    </tr>\n",
       "    <tr>\n",
       "      <th>143</th>\n",
       "      <td>2</td>\n",
       "      <td>14</td>\n",
       "      <td>22</td>\n",
       "      <td>0</td>\n",
       "      <td>23.7225</td>\n",
       "      <td>26.125</td>\n",
       "      <td>493.750000</td>\n",
       "      <td>774.750000</td>\n",
       "      <td>0.004744</td>\n",
       "      <td>1</td>\n",
       "    </tr>\n",
       "    <tr>\n",
       "      <th>144</th>\n",
       "      <td>2</td>\n",
       "      <td>14</td>\n",
       "      <td>23</td>\n",
       "      <td>0</td>\n",
       "      <td>23.7540</td>\n",
       "      <td>26.200</td>\n",
       "      <td>488.600000</td>\n",
       "      <td>779.000000</td>\n",
       "      <td>0.004767</td>\n",
       "      <td>1</td>\n",
       "    </tr>\n",
       "  </tbody>\n",
       "</table>\n",
       "</div>"
      ],
      "text/plain": [
       "     date_day  date_hour  date_minutes  date_seconds  Temperature  Humidity  \\\n",
       "140         2         14            19             0      23.7000    26.272   \n",
       "141         2         14            19            59      23.7180    26.290   \n",
       "142         2         14            21             0      23.7300    26.230   \n",
       "143         2         14            22             0      23.7225    26.125   \n",
       "144         2         14            23             0      23.7540    26.200   \n",
       "\n",
       "          Light         CO2  HumidityRatio  Occupancy  \n",
       "140  585.200000  749.200000       0.004764          1  \n",
       "141  578.400000  760.400000       0.004773          1  \n",
       "142  572.666667  769.666667       0.004765          1  \n",
       "143  493.750000  774.750000       0.004744          1  \n",
       "144  488.600000  779.000000       0.004767          1  "
      ]
     },
     "execution_count": 12,
     "metadata": {},
     "output_type": "execute_result"
    }
   ],
   "source": [
    "swap_list = [\"date_day\",\"date_hour\",\"date_minutes\",\"date_seconds\",\"Temperature\", \"Humidity\", \"Light\", \"CO2\", \"HumidityRatio\",\"Occupancy\"]\n",
    "occupancy = occupancy.reindex(columns=swap_list)\n",
    "occupancy.head()"
   ]
  },
  {
   "cell_type": "code",
   "execution_count": 13,
   "metadata": {},
   "outputs": [],
   "source": [
    "y = occupancy.iloc[:,9]\n",
    "X = occupancy.iloc[:,:9]"
   ]
  },
  {
   "cell_type": "code",
   "execution_count": 16,
   "metadata": {},
   "outputs": [],
   "source": [
    "# Now we'll use 'train_test_split' from sklearn\n",
    "# to split the data into training and testing sets\n",
    "test_size = 0.3\n",
    "random_state = 0\n",
    "\n",
    "# 'train_test_split' convinience function\n",
    "X_train, X_test, y_train, y_test = train_test_split(X, y, test_size=test_size, random_state=random_state)"
   ]
  },
  {
   "cell_type": "code",
   "execution_count": 17,
   "metadata": {},
   "outputs": [],
   "source": [
    "# standarize the data like we did before, but use\n",
    "# the 'StandardScaler'\n",
    "    \n",
    "# create the instance\n",
    "sc = StandardScaler()\n",
    "    \n",
    "# fit the scaler to the training feature set ONLY\n",
    "sc.fit(X_train)\n",
    "\n",
    "# scale (transform) the training AND the testing sets\n",
    "# using the scaler that was fitted to traning data\n",
    "X_train_std = sc.transform(X_train)\n",
    "X_test_std = sc.transform(X_test)"
   ]
  },
  {
   "cell_type": "code",
   "execution_count": 53,
   "metadata": {},
   "outputs": [
    {
     "name": "stdout",
     "output_type": "stream",
     "text": [
      "Unique labels: [0 1]\n",
      "accuracy: 98.00%\n"
     ]
    }
   ],
   "source": [
    "svm = MySVM(X_train_std, y_train)\n",
    "# make predictions\n",
    "y_pred = svm.predict(X_test_std)\n",
    "    \n",
    "# we can measure performance using the 'accuracy_score'\n",
    "# convenience function in sklearn\n",
    "print(\"accuracy: {0:.2f}%\".format(accuracy_score(y_test, y_pred)*100))"
   ]
  },
  {
   "cell_type": "markdown",
   "metadata": {},
   "source": [
    "## Normalization vs Standarization"
   ]
  },
  {
   "cell_type": "markdown",
   "metadata": {},
   "source": [
    "Though both procedures are similar, if there is not enough time to run multiple experiments with the dataset, we use as a rule of thumb:\n",
    "* unsupervised learning algorithms, in practice, more often benet from standardizationthan from normalization;\n",
    "* standardization is also preferred for a feature if the values this feature takes are distributed close to a normal distribution (so-called bell curve);\n",
    "* again, standardization is preferred for a feature if it can sometimes have extremely high or low values (outliers); this is because normalization will “squeeze” the normal values into a very small range;\n",
    "* in all other cases, normalization is preferable.\n",
    "\n",
    "Nevertheless, as our dataset is not too big, we can compare the results between both procedures"
   ]
  },
  {
   "cell_type": "markdown",
   "metadata": {},
   "source": [
    "### Normalization"
   ]
  },
  {
   "cell_type": "code",
   "execution_count": 54,
   "metadata": {},
   "outputs": [],
   "source": [
    "y = occupancy.iloc[:,9]\n",
    "X = occupancy.iloc[:,:9"
   ]
  },
  {
   "cell_type": "code",
   "execution_count": 55,
   "metadata": {},
   "outputs": [],
   "source": [
    "# Now we'll use 'train_test_split' from sklearn\n",
    "# to split the data into training and testing sets\n",
    "test_size = 0.3\n",
    "random_state = 0\n",
    "\n",
    "# 'train_test_split' convinience function\n",
    "X_train, X_test, y_train, y_test = train_test_split(X, y, test_size=test_size, random_state=random_state)"
   ]
  },
  {
   "cell_type": "code",
   "execution_count": 56,
   "metadata": {},
   "outputs": [],
   "source": [
    "from sklearn.preprocessing import Normalizer\n",
    "nz = Normalizer()\n",
    "nz.fit(X_train)\n",
    "\n",
    "X_train_nmz = nz.transform(X_train)\n",
    "X_test_nmz = nz.transform(X_test)"
   ]
  },
  {
   "cell_type": "code",
   "execution_count": 57,
   "metadata": {},
   "outputs": [
    {
     "name": "stdout",
     "output_type": "stream",
     "text": [
      "Unique labels: [0 1]\n",
      "accuracy: 96.88%\n"
     ]
    }
   ],
   "source": [
    "svm = MySVM(X_train_nmz, y_train)\n",
    "# make predictions\n",
    "y_pred = svm.predict(X_test_nmz)\n",
    "    \n",
    "# we can measure performance using the 'accuracy_score'\n",
    "# convenience function in sklearn\n",
    "print(\"accuracy: {0:.2f}%\".format(accuracy_score(y_test, y_pred)*100))"
   ]
  },
  {
   "cell_type": "markdown",
   "metadata": {},
   "source": [
    "### Standardization"
   ]
  },
  {
   "cell_type": "code",
   "execution_count": 58,
   "metadata": {},
   "outputs": [],
   "source": [
    "sc = StandardScaler()\n",
    "    \n",
    "# fit the scaler to the training feature set ONLY\n",
    "sc.fit(X_train)\n",
    "\n",
    "# scale (transform) the training AND the testing sets\n",
    "# using the scaler that was fitted to traning data\n",
    "X_train_std = sc.transform(X_train)\n",
    "X_test_std = sc.transform(X_test)"
   ]
  },
  {
   "cell_type": "code",
   "execution_count": 59,
   "metadata": {},
   "outputs": [
    {
     "name": "stdout",
     "output_type": "stream",
     "text": [
      "Unique labels: [0 1]\n",
      "accuracy: 98.00%\n"
     ]
    }
   ],
   "source": [
    "svm = MySVM(X_train_std, y_train)\n",
    "# make predictions\n",
    "y_pred = svm.predict(X_test_std)\n",
    "    \n",
    "# we can measure performance using the 'accuracy_score'\n",
    "# convenience function in sklearn\n",
    "print(\"accuracy: {0:.2f}%\".format(accuracy_score(y_test, y_pred)*100))"
   ]
  },
  {
   "cell_type": "markdown",
   "metadata": {},
   "source": [
    "### Raw data"
   ]
  },
  {
   "cell_type": "code",
   "execution_count": 60,
   "metadata": {},
   "outputs": [],
   "source": [
    "y = occupancy.iloc[:,9]\n",
    "X = occupancy.iloc[:,:9]"
   ]
  },
  {
   "cell_type": "code",
   "execution_count": 61,
   "metadata": {},
   "outputs": [],
   "source": [
    "# Now we'll use 'train_test_split' from sklearn\n",
    "# to split the data into training and testing sets\n",
    "test_size = 0.3\n",
    "random_state = 0\n",
    "\n",
    "# 'train_test_split' convinience function\n",
    "X_train, X_test, y_train, y_test = train_test_split(X, y, test_size=test_size, random_state=random_state)"
   ]
  },
  {
   "cell_type": "code",
   "execution_count": 62,
   "metadata": {},
   "outputs": [
    {
     "name": "stdout",
     "output_type": "stream",
     "text": [
      "Unique labels: [0 1]\n",
      "accuracy: 98.00%\n"
     ]
    }
   ],
   "source": [
    "svm = MySVM(X_train, y_train)\n",
    "# make predictions\n",
    "y_pred = svm.predict(X_test)\n",
    "    \n",
    "# we can measure performance using the 'accuracy_score'\n",
    "# convenience function in sklearn\n",
    "print(\"accuracy: {0:.2f}%\".format(accuracy_score(y_test, y_pred)*100))"
   ]
  },
  {
   "cell_type": "markdown",
   "metadata": {},
   "source": [
    "From the results we can conclude that standardize the dataset or using it without any procedure performs better for the SVM with the occupancy dataset."
   ]
  },
  {
   "cell_type": "markdown",
   "metadata": {},
   "source": [
    "## Learning Algorithm Selection"
   ]
  },
  {
   "cell_type": "markdown",
   "metadata": {},
   "source": [
    "Now we would like the compare SVM algorithm with other ML algorithms to determine which one performs and adjusts better for this specific classification problem."
   ]
  },
  {
   "cell_type": "markdown",
   "metadata": {},
   "source": [
    "The occupancy classification problem looks to decide whether certain room is occupied or not. Thus, we do not need to explain any non-technical audience how or why our model works, they just need to now basic information about its usage. However, our dataset is linearly separable so using SVM with the linear kernel, logistic regression or linear regression can be a good choice. On the other hand, Deep Neural networks or ensemble algorithms might work better for this case but that kind of algorithms are known to be slow to train, rather than simple algorithms like SVM, linear regression as well as decision tree which are much faster to learn. Finally, when talking about prediction speed some algorithms like SVM, linear and logistic regression are extremely fast in this aspect, when compared with recurrent deep neural networks or kNN. Indeed, the user would like to know if certain room is empty or not in a blink of an eye, so that leads us to the following ML algorithms:\n",
    "* SVM with linear kernel\n",
    "* Linear Regression\n",
    "* Logistic Regression\n",
    "\n",
    "However, so far we've already seen how SVM with linear kernel performs for occupancy dataset, so let's find out whether linear regression or logistic regression can beat our SVM"
   ]
  },
  {
   "cell_type": "code",
   "execution_count": 21,
   "metadata": {},
   "outputs": [],
   "source": [
    "import matplotlib.pyplot as plt\n",
    "import numpy as np\n",
    "from sklearn import datasets, linear_model\n",
    "from sklearn.metrics import mean_squared_error, r2_score, f1_score"
   ]
  },
  {
   "cell_type": "code",
   "execution_count": 22,
   "metadata": {},
   "outputs": [],
   "source": [
    "y = occupancy.iloc[:,9]\n",
    "X = occupancy.iloc[:,:9]"
   ]
  },
  {
   "cell_type": "code",
   "execution_count": 23,
   "metadata": {},
   "outputs": [],
   "source": [
    "# Now we'll use 'train_test_split' from sklearn\n",
    "# to split the data into training and testing sets\n",
    "test_size = 0.3\n",
    "random_state = 0\n",
    "\n",
    "# 'train_test_split' convinience function\n",
    "X_train, X_test, y_train, y_test = train_test_split(X, y, test_size=test_size, random_state=random_state)\n",
    "\n",
    "sc = StandardScaler()\n",
    "    \n",
    "# fit the scaler to the training feature set ONLY\n",
    "sc.fit(X_train)\n",
    "\n",
    "# scale (transform) the training AND the testing sets\n",
    "# using the scaler that was fitted to traning data\n",
    "X_train_std = sc.transform(X_train)\n",
    "X_test_std = sc.transform(X_test)"
   ]
  },
  {
   "cell_type": "markdown",
   "metadata": {},
   "source": [
    "### SVM with linear kernel"
   ]
  },
  {
   "cell_type": "code",
   "execution_count": 25,
   "metadata": {},
   "outputs": [
    {
     "name": "stdout",
     "output_type": "stream",
     "text": [
      "Unique labels: [0 1]\n"
     ]
    }
   ],
   "source": [
    "svm = MySVM(X_train, y_train)\n",
    "# make predictions\n",
    "y_pred = svm.predict(X_test)"
   ]
  },
  {
   "cell_type": "code",
   "execution_count": 26,
   "metadata": {},
   "outputs": [
    {
     "name": "stdout",
     "output_type": "stream",
     "text": [
      "Coefficients: \n",
      " [[-3.76220239e-01 -2.30058670e-02 -2.51424276e-03  1.68481067e-05\n",
      "  -1.73254133e-02  3.86303494e-01  6.94394377e-03 -3.22519608e-03\n",
      "   1.48973192e-04]]\n",
      "F1_score: 0.97260\n",
      "R2_score: 0.91265\n"
     ]
    }
   ],
   "source": [
    "# The coefficients\n",
    "print(\"Coefficients: \\n\", svm.coef_)\n",
    "# The F1_score\n",
    "print(\"F1_score: %.5f\" % f1_score(y_test, y_pred))\n",
    "print(\"R2_score: %.5f\" % r2_score(y_test, y_pred))"
   ]
  },
  {
   "cell_type": "markdown",
   "metadata": {},
   "source": [
    "### Logistic Regression"
   ]
  },
  {
   "cell_type": "code",
   "execution_count": 27,
   "metadata": {},
   "outputs": [],
   "source": [
    "from sklearn.linear_model import LogisticRegression\n",
    "\n",
    "lgr = LogisticRegression()\n",
    "lgr.fit(X_train_std, y_train)\n",
    "\n",
    "# make predictions\n",
    "y_pred = lgr.predict(X_test_std)"
   ]
  },
  {
   "cell_type": "code",
   "execution_count": 29,
   "metadata": {},
   "outputs": [
    {
     "name": "stdout",
     "output_type": "stream",
     "text": [
      "Coefficients: \n",
      " [[-1.00507164 -1.20029353 -0.43563227  0.1135006  -1.20961341  1.651354\n",
      "   4.62762595 -0.59195387  1.03280993]]\n",
      "F1_score: 0.97084\n",
      "R2_score: 0.90720\n"
     ]
    }
   ],
   "source": [
    "# The coefficients\n",
    "print(\"Coefficients: \\n\", lgr.coef_)\n",
    "# TF1_score\n",
    "print(\"F1_score: %.5f\" % f1_score(y_test, y_pred))\n",
    "print(\"R2_score: %.5f\" % r2_score(y_test, y_pred))"
   ]
  },
  {
   "cell_type": "code",
   "execution_count": null,
   "metadata": {},
   "outputs": [],
   "source": [
    "def GetOccupancyData(textfile):\n",
    "    \n",
    "\n",
    "def TrainModels(cost_function, models, X, y):\n",
    "    "
   ]
  }
 ],
 "metadata": {
  "colab": {
   "provenance": []
  },
  "kernelspec": {
   "display_name": "Python 3 (ipykernel)",
   "language": "python",
   "name": "python3"
  },
  "language_info": {
   "codemirror_mode": {
    "name": "ipython",
    "version": 3
   },
   "file_extension": ".py",
   "mimetype": "text/x-python",
   "name": "python",
   "nbconvert_exporter": "python",
   "pygments_lexer": "ipython3",
   "version": "3.10.6"
  },
  "toc": {
   "base_numbering": 1,
   "nav_menu": {},
   "number_sections": true,
   "sideBar": true,
   "skip_h1_title": false,
   "title_cell": "Table of Contents",
   "title_sidebar": "Contents",
   "toc_cell": false,
   "toc_position": {},
   "toc_section_display": true,
   "toc_window_display": false
  }
 },
 "nbformat": 4,
 "nbformat_minor": 1
}
