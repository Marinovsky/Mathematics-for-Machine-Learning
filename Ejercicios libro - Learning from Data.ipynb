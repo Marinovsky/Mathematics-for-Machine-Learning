{
 "cells": [
  {
   "cell_type": "markdown",
   "id": "e5a3b45a",
   "metadata": {},
   "source": [
    "# Exercise 1.2"
   ]
  },
  {
   "cell_type": "markdown",
   "id": "33782c65",
   "metadata": {},
   "source": [
    "Suppose that we use *perceptron* to detect spam messages. Let's say that each email message is represented by the frequency of occurrence of keywords, and the output is $+1$ if the message is considered spam"
   ]
  },
  {
   "cell_type": "markdown",
   "id": "e60a9adc",
   "metadata": {},
   "source": [
    "## a) Can you think of some words that will end up with a large positive weight in the perceptron? "
   ]
  },
  {
   "cell_type": "markdown",
   "id": "17d394db",
   "metadata": {},
   "source": [
    "offer, sale, winner, discount, free, now, earn"
   ]
  },
  {
   "cell_type": "markdown",
   "id": "0493aa5f",
   "metadata": {},
   "source": [
    "## b) How about keywords that will get a negative weight?"
   ]
  },
  {
   "cell_type": "markdown",
   "id": "155881ce",
   "metadata": {},
   "source": [
    "Sincerely, reply, Hi, best regards, due, thanks, "
   ]
  },
  {
   "cell_type": "markdown",
   "id": "6cae553c",
   "metadata": {},
   "source": [
    "## c) What parameter in the perceptron directly affects how many borderline messages end up being classified as spam?"
   ]
  },
  {
   "cell_type": "markdown",
   "id": "22600437",
   "metadata": {},
   "source": [
    "The parameter $b$, often called *bias*, directly affects how many borderline messages end up being classified as spam, because is the threshold by which is determined if certain email is spam or it is not. The higher the parameter $b$ is the, the more emails classified as spam are; The lower the parameter $b$ is, the less emails classified as spam are."
   ]
  },
  {
   "cell_type": "markdown",
   "id": "6e3897e7",
   "metadata": {},
   "source": [
    "# Exercise 1.3"
   ]
  },
  {
   "cell_type": "markdown",
   "id": "b4668992",
   "metadata": {},
   "source": [
    "The weight update rule in (1.3) has the nice interpretation that it moves in the direction of classifying $x(t)$ correctly"
   ]
  },
  {
   "cell_type": "markdown",
   "id": "5c7999f5",
   "metadata": {},
   "source": [
    "## a) Show that $y(t)w^{T}(t)x(t)<0$"
   ]
  },
  {
   "cell_type": "markdown",
   "id": "dcc5247a",
   "metadata": {},
   "source": [
    "Since the example $(x(t), y(t))$ is misclassified, $y(t)\\neq sign(w^{T}x(t))$, therefore if we multiply both therms the result will be always negative."
   ]
  },
  {
   "cell_type": "markdown",
   "id": "c4587e1e",
   "metadata": {},
   "source": [
    "## b) Show that $y(t)w^{T}(t+1)x(t) > y(t)w^{T}(t)x(t)$"
   ]
  },
  {
   "cell_type": "markdown",
   "id": "8385a59d",
   "metadata": {},
   "source": [
    "$\\begin{align}\n",
    "y(t)w^{T}(t+1)x(t) &= y(t)(w(t) + y(t)x(t))^{T}x(t)\\\\\n",
    "&= y(t)(w^{T}(t) + y(t)x^{T}(t))x(t)\\\\\n",
    "&= y(t)(w^{T}(t)x(t) + y(t)x^{T}(t)x(t))\\\\\n",
    "&= y(t)w^{T}(t)x(t) + y(t)y(t)x^{T}(t)x(t)\\\\\n",
    "&> y(t)w^{T}(t)x(t)\\quad\\text{Since }y(t)y(t)x^{T}(t)x(t) > 0\n",
    "\\end{align}$"
   ]
  },
  {
   "cell_type": "markdown",
   "id": "109adb92",
   "metadata": {},
   "source": [
    "## c) As far as classifying $x(t)$ is concerned, argue that the move from $w(t)$ to $w(t+1)$ is a move 'in the right direction'. "
   ]
  },
  {
   "cell_type": "markdown",
   "id": "d93e6c09",
   "metadata": {},
   "source": [
    "As we seen in the last exercise, the sequence $y(t)w^{T}(t)x(t)$ is an increasing one. Hence\n",
    "* If $y(t)$ is positive and $w^{T}(t)x(t)$ negative, inequality from exercise 2.b tells us amount $w^{T}(t)x(t)$ is increasing, as $y(t)$ is 1 so our inequality transforms into\n",
    "$$w^{T}(t+1)x(t) > w^{T}(t)x(t).$$\n",
    "Telling us, the sequence of $w^{T}(t)$ is increasing.\n",
    "* If $y(t)$ is negative and $w^{T}(t)x(t)$ positive, inequality from exercise 2.b tells us amount $w^{T}(t)x(t)$ is decreasing, because $y(t)$ is equal to $-1$, so our inequality gets transformed into\n",
    "$$w^{T}(t+1)x(t)<w^{T}(t)x(t).$$\n",
    "Telling us, the sequence of $w^{T}(t)$ is decreasing.\n"
   ]
  },
  {
   "cell_type": "markdown",
   "id": "ac4b10c0",
   "metadata": {},
   "source": [
    "# Exercise 1.10"
   ]
  },
  {
   "cell_type": "markdown",
   "id": "a9a5ed69",
   "metadata": {},
   "source": [
    "Here is an experiment that illustrates the difference between a single bin and multiple bins. Run a computer simulation for flipping $1000$ fair coins. Flip each coin independently $10$ times. Let's focus on $3$ coins as follows: $c_{1}$ is the first coin flipped; $c_{\\text{rand}}$ is a coin you choose at random; $c_{\\text{min}}$ is the coin that had the minimum frequency of heads (pick the earlier one in case of a tie). Let $v_{1}, v_{\\text{rand}}$ and $v_{\\text{min}}$ be the fraction of heads you obtain for the respective three coins."
   ]
  },
  {
   "cell_type": "code",
   "execution_count": 2,
   "id": "341303bb",
   "metadata": {},
   "outputs": [],
   "source": [
    "import numpy as np\n",
    "def flip_coins(total_coins):\n",
    "    \"\"\"Flip all coins once, return their head/tail status\n",
    "    \"\"\"\n",
    "    \n",
    "    hts = np.zeros(total_coins) #head: 1, tail: 0\n",
    "    probs = np.random.uniform(size=total_coins)\n",
    "    hts[probs > 0.5] = 1\n",
    "    return hts\n",
    "\n",
    "def run_once(total_coins, total_flips, print_freq = False):\n",
    "    v1, vrand, vmin = None, None, None\n",
    "    crand = np.random.choice(total_coins)\n",
    "    hts_sum = np.zeros(total_coins) # store the sum of heads in total_flips\n",
    "    \n",
    "    for flip in range(total_flips):\n",
    "        hts_sum = hts_sum + flip_coins(total_coins)\n",
    "    \n",
    "    hts_freq = hts_sum/total_flips\n",
    "    \n",
    "    v1 = hts_freq[0]\n",
    "    vrand = hts_freq[crand]\n",
    "    cmin = np.argmin(hts_sum)\n",
    "    vmin = hts_freq[cmin]\n",
    "    \n",
    "    if print_freq:\n",
    "        print('Frequency of first coin: {}'.format(v1))\n",
    "        print('Frequency of a random coin: id({})-freq({})'.format(crand, vrand))\n",
    "        print('Frequency of the coin with minimum frequency: id({})-freq({})'.format(cmin, vmin))\n",
    "    return v1,vrand,vmin"
   ]
  },
  {
   "cell_type": "markdown",
   "id": "1c8b3ebc",
   "metadata": {},
   "source": [
    "## a) What is $\\mu$ for the three coins selected?"
   ]
  },
  {
   "cell_type": "code",
   "execution_count": 3,
   "id": "565c8bdc",
   "metadata": {},
   "outputs": [
    {
     "name": "stdout",
     "output_type": "stream",
     "text": [
      "Frequency of first coin: 0.6\n",
      "Frequency of a random coin: id(893)-freq(0.5)\n",
      "Frequency of the coin with minimum frequency: id(31)-freq(0.1)\n"
     ]
    },
    {
     "data": {
      "text/plain": [
       "(0.6, 0.5, 0.1)"
      ]
     },
     "execution_count": 3,
     "metadata": {},
     "output_type": "execute_result"
    }
   ],
   "source": [
    "run_once(1000, 10, True)"
   ]
  },
  {
   "cell_type": "markdown",
   "id": "8a4e59f1",
   "metadata": {},
   "source": [
    "## b) Repeat this entire experiment a large number of times (e.g. $10000$ runs of the entire experiment) to get several instances of $v_{1},v_{\\text{random}}$ and $v_{\\text{min}}$ and plot the histograms of the distributions of $v_{1}, v_{\\text{rand}}$ and $v_{\\text{min}}$. Notice that which coins end up being $c_{\\text{rand}}$ and $c_{\\text{min}}$ may differ from one run to another"
   ]
  },
  {
   "cell_type": "code",
   "execution_count": 6,
   "id": "c4f38658",
   "metadata": {},
   "outputs": [
    {
     "data": {
      "text/plain": [
       "(array([62249.,     0.,     0.,     0.,     0.,     0.,     0.,     0.,\n",
       "            0., 37751.]),\n",
       " array([0.  , 0.01, 0.02, 0.03, 0.04, 0.05, 0.06, 0.07, 0.08, 0.09, 0.1 ]),\n",
       " <BarContainer object of 10 artists>)"
      ]
     },
     "execution_count": 6,
     "metadata": {},
     "output_type": "execute_result"
    },
    {
     "data": {
      "image/png": "[encoded data removed]",
      "text/plain": [
       "<Figure size 640x480 with 3 Axes>"
      ]
     },
     "metadata": {},
     "output_type": "display_data"
    }
   ],
   "source": [
    "import matplotlib.pyplot as plt\n",
    "\n",
    "total_coins = 1000\n",
    "total_flips = 10\n",
    "total_runs = 100000\n",
    "v1s, vrands, vmins = [],[],[]\n",
    "for run in range(total_runs):\n",
    "    v1,vrand,vmin = run_once(total_coins, total_flips)\n",
    "    v1s.append(v1)\n",
    "    vrands.append(vrand)\n",
    "    vmins.append(vmin)\n",
    "\n",
    "fig, axs = plt.subplots(1,3,sharey=True, tight_layout=True)\n",
    "n_bins = 10\n",
    "axs[0].hist(v1s,bins=n_bins)\n",
    "axs[1].hist(vrands,bins=n_bins)\n",
    "axs[2].hist(vmins,bins=n_bins)"
   ]
  },
  {
   "cell_type": "markdown",
   "id": "d5c279c8",
   "metadata": {},
   "source": [
    "## c) Using (b), plot estimates for $\\mathbb{P}[\\vert \\nu - \\mu \\vert > \\epsilon]$ as a function of $\\epsilon$, together with the Hoeffding bound $2 e^{-2\\epsilon^{2}N}$ (on the same graph)"
   ]
  },
  {
   "cell_type": "code",
   "execution_count": 14,
   "id": "8cbbc1c7",
   "metadata": {},
   "outputs": [
    {
     "data": {
      "text/plain": [
       "<matplotlib.legend.Legend at 0x7f798b5cc370>"
      ]
     },
     "execution_count": 14,
     "metadata": {},
     "output_type": "execute_result"
    },
    {
     "data": {
      "image/png": "[encoded data removed]",
      "text/plain": [
       "<Figure size 640x480 with 1 Axes>"
      ]
     },
     "metadata": {},
     "output_type": "display_data"
    }
   ],
   "source": [
    "def hoeffding_bound(epsilon, n):\n",
    "    return 2.0*np.exp(-2.0*n*epsilon**2)\n",
    "\n",
    "eps = np.arange(0.0,0.5,0.05)\n",
    "bounds = hoeffding_bound(eps, total_flips)\n",
    "v1s, vrands, vmins = np.array(v1s), np.array(vrands), np.array(vmins)\n",
    "v1d = np.abs(v1s-0.5)\n",
    "vrandd = np.abs(vrands-0.5)\n",
    "vmind = np.abs(vmins-0.5)\n",
    "\n",
    "p1, prand, pmin = np.zeros(len(eps)),np.zeros(len(eps)),np.zeros(len(eps))\n",
    "\n",
    "for idx in range(eps.shape[0]):\n",
    "    ep = eps[idx]\n",
    "    p1[idx] = np.sum(v1d > ep)/total_runs\n",
    "    prand[idx] = np.sum(vrandd > ep)/total_runs\n",
    "    pmin[idx] = np.sum(vmind > ep)/total_runs\n",
    "\n",
    "#plt.ylim((0,0.01))    \n",
    "plt.plot(eps, bounds, marker='o', markerfacecolor='blue', markersize=8, color='skyblue', label='Hoeffding Bound')\n",
    "plt.plot(eps, p1, marker='.', color='r', linewidth=1, label='First Coin')\n",
    "plt.plot(eps, prand, marker='', color='g', linewidth=1, linestyle='dashed', label='Random Coin')\n",
    "plt.plot(eps, pmin, marker='', color='y', linewidth=1, linestyle='dashed', label='Coin with Minimum Freq')\n",
    "plt.legend()"
   ]
  },
  {
   "cell_type": "markdown",
   "id": "3c28c30e",
   "metadata": {},
   "source": [
    "## d) Which coins obey the Hoeffding bound, and which ones do not? Explain why"
   ]
  },
  {
   "cell_type": "markdown",
   "id": "a709b433",
   "metadata": {},
   "source": [
    "The first and random coins follow the Hoeffding bound. The coin with minimum frequency doesn't obey Hoeffding bound. This is because that for the first two coins, the coins were chosen before the experiment. While for the last one, we have to flip all the coins first, and use the data to compute out which is the coin with minimum frequency of heads. This violates the Hoeffding inequality condition which says the hypothesis $h$ has been fixed before samples were drawn."
   ]
  },
  {
   "cell_type": "markdown",
   "id": "d9e949a6",
   "metadata": {},
   "source": [
    "## e) Relate part d) to the multiple bins in Figure 1.10. "
   ]
  },
  {
   "cell_type": "markdown",
   "id": "d015531e",
   "metadata": {},
   "source": [
    "When we choose the coin having the minimum frequency of heads. We are like choosing the bin from 1000 bins (our hypothesis space). But we choose bin after we finish sampling the data. This is akin to learning algorithm for the final hypothesis. The other two coins were chosen before the sampling, which is choosing bin beforehand."
   ]
  },
  {
   "cell_type": "markdown",
   "id": "cc141243",
   "metadata": {},
   "source": [
    "# Exercise 1.11"
   ]
  },
  {
   "cell_type": "markdown",
   "id": "f2ba8cca",
   "metadata": {},
   "source": [
    "We are given a dataset $\\mathcal{D}$ of $25$ training samples from an unknown target function $f:\\mathcal{X}\\rightarrow \\mathcal{Y}$, where $\\mathcal{X}=\\mathbb{R}$ and $\\mathcal{Y}=\\{-1, +1\\}$. To learn $f$, we use a simple hypothesis set $\\mathcal{H}=\\{h_{1}, h_{2}\\}$ where $h_{1}$ is the constant $+1$ function and $h_{2}$ is the constant $-1$.\n",
    "\n",
    "We consider two learning algorithms S(Smart) and C(Crazy). S chooses the hypothesis that agrees most with $D$ and C chooses the other hypothesis deliberately. Let us see how this algorithms performs out of sample from the deterministic and probabilistic point of view. Assume in the probabilistic view that there is a probability distribution on $\\mathcal{X}$, and let $\\mathbb{P}[f(x)=+1]=p$."
   ]
  },
  {
   "cell_type": "markdown",
   "id": "6cb7ac4a",
   "metadata": {},
   "source": [
    "## a) Can S produce a hypothesis that is guaranteed to perform better than the random on any point outside $\\mathcal{D}$"
   ]
  },
  {
   "cell_type": "markdown",
   "id": "a31c50cc",
   "metadata": {},
   "source": [
    "$S$ cannot produce a hypothesis $h$ that is guaranteed to perform better than the random on any point outside $\\mathcal{D}$, because we $f$ is just unknown. Suppose the case the dataset $\\mathcal{D}$ that we took was just the positive samples of $f$(all the samples were the output was +1), then $h$ will always fails on any point outside $\\mathcal{D}$ for all of them has outputs $y=-1$. In the other case, let's consider a random hypothesis that returns $+1$ 50% of the times and $-1$ the other 50%. That random function will assert the output outside $\\mathcal{D}$ 50% of the times, therefore, giving a better performance than S."
   ]
  },
  {
   "cell_type": "markdown",
   "id": "9828e82c",
   "metadata": {},
   "source": [
    "## b) Assume for the rest of the exercise that all the samples in $\\mathcal{D}$ have $y_{n}=+1$. Is it possible that the hypothesis that C produces turns out to be better than the hypothesis that S produces?"
   ]
  },
  {
   "cell_type": "markdown",
   "id": "69543116",
   "metadata": {},
   "source": [
    " It is possible that C produces a better hypothesis than S. See the example above."
   ]
  },
  {
   "cell_type": "markdown",
   "id": "5fae9591",
   "metadata": {},
   "source": [
    "## c) If $p=0.9$, what is the probability that S will produce a better hypothesis than C?"
   ]
  },
  {
   "cell_type": "markdown",
   "id": "76634c6c",
   "metadata": {},
   "source": [
    "S will have at least a probability of $0.9$ to produce a better hypothesis than C, because in the worst of the cases $\\mathcal{D}$ contains just one sample of $\\mathcal{X}$, and that sample will be 90% of the times one with output $+1$. Therefore, S will chose $h_{1}$ and C $h_{2}$. At the end, the hypothesis produced by S will assert the expected output $90$% of the times, while C just $10$% of them."
   ]
  },
  {
   "cell_type": "markdown",
   "id": "048c096f",
   "metadata": {},
   "source": [
    "## d) Is there any value of $p$ for which it's more likely than not, that C will produce a a btter hypothesis than S?"
   ]
  },
  {
   "cell_type": "markdown",
   "id": "12569e19",
   "metadata": {},
   "source": [
    "From previous problem, we can see that when $p < 0.5$, S will produce a better hypothesis than C. Since C always produce $h_{2}$, which will match better $f$ than $h_{1}$, if $p < 0.5$."
   ]
  },
  {
   "cell_type": "markdown",
   "id": "945401b3",
   "metadata": {},
   "source": [
    "# Exercise 1.12"
   ]
  },
  {
   "cell_type": "markdown",
   "id": "81706812",
   "metadata": {},
   "source": [
    "A friend comes to you with a learning problem. She says the target function $f$ is completely unknown, but she has $4000$ data points. She is willing to pay you to solve her problem  and produce for her a function $g$ that approximates $f$. What is the best that you can promise her, along the following:\n",
    "* a) After learning you will provide her with a $g$ that you will guarantee approximates $f$ well out of sample.\n",
    "* b) After learning you will provide her with a $g$, and with high probability the $g$ which you produce will approximate $f$ well out of sample.\n",
    "* c) One two things will happen.\n",
    "    * You will produce a hypothesis $g$.\n",
    "    * You will declare that you failed.\n",
    "    \n",
    "    If you do return a hypothesis $g$, then with high probability the $g$ which you produce will approximate $f$ well out of sample."
   ]
  },
  {
   "cell_type": "markdown",
   "id": "413044f1",
   "metadata": {},
   "source": [
    "I would say the best I can promise is (c).\n",
    "\n",
    "* Maybe the unknown target $f$ is very complex so we can't learn it at all.\n",
    "* As we see in this section, since we have many data points, Hoeffding inequality tells us the probability of learning is actually high."
   ]
  }
 ],
 "metadata": {
  "kernelspec": {
   "display_name": "Python 3 (ipykernel)",
   "language": "python",
   "name": "python3"
  },
  "language_info": {
   "codemirror_mode": {
    "name": "ipython",
    "version": 3
   },
   "file_extension": ".py",
   "mimetype": "text/x-python",
   "name": "python",
   "nbconvert_exporter": "python",
   "pygments_lexer": "ipython3",
   "version": "3.10.6"
  },
  "toc": {
   "base_numbering": 1,
   "nav_menu": {},
   "number_sections": true,
   "sideBar": true,
   "skip_h1_title": false,
   "title_cell": "Table of Contents",
   "title_sidebar": "Contents",
   "toc_cell": false,
   "toc_position": {},
   "toc_section_display": true,
   "toc_window_display": false
  }
 },
 "nbformat": 4,
 "nbformat_minor": 5
}
