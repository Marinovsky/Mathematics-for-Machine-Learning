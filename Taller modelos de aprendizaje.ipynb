{
 "cells": [
  {
   "cell_type": "code",
   "execution_count": 41,
   "id": "d37d5b7f",
   "metadata": {},
   "outputs": [],
   "source": [
    "import numpy as np\n",
    "from sklearn import datasets\n",
    "from sklearn.model_selection import train_test_split\n",
    "from sklearn.preprocessing import StandardScaler\n",
    "from sklearn.linear_model import Perceptron\n",
    "from sklearn.linear_model import LogisticRegression\n",
    "from sklearn.svm import SVC\n",
    "from sklearn.metrics import accuracy_score\n",
    "from matplotlib.colors import ListedColormap\n",
    "import matplotlib.pyplot as plt\n",
    "from matplotlib import rcParams\n",
    "import pandas as pd\n",
    "from sklearn.metrics import mean_squared_error, r2_score, f1_score, precision_score, recall_score\n",
    "rcParams[\"figure.figsize\"] = 10, 5\n",
    "%matplotlib inline"
   ]
  },
  {
   "cell_type": "code",
   "execution_count": 22,
   "id": "88878bdb",
   "metadata": {},
   "outputs": [],
   "source": [
    "def GetOccupancyData(filename):\n",
    "    occupancy = pd.read_csv(filename)\n",
    "    occupancy['date'] = pd.to_datetime(occupancy['date'])\n",
    "    occupancy['date_day'] = occupancy['date'].dt.day\n",
    "    occupancy['date_hour'] = occupancy['date'].dt.hour\n",
    "    occupancy = occupancy.drop('date', axis=1)\n",
    "    swap_list = [\"date_day\",\"date_hour\",\"Temperature\", \"Humidity\", \"Light\", \"CO2\", \"HumidityRatio\",\"Occupancy\"]\n",
    "    occupancy = occupancy.reindex(columns=swap_list)\n",
    "    y = occupancy.iloc[:,7]\n",
    "    X = occupancy.iloc[:,:7]\n",
    "    return X,y"
   ]
  },
  {
   "cell_type": "code",
   "execution_count": 31,
   "id": "024f85ca",
   "metadata": {},
   "outputs": [],
   "source": [
    "def GetBanknoteData():\n",
    "    banknote = pd.read_csv(\"data_banknote_authentication.txt\")\n",
    "    y = banknote.iloc[:,4]\n",
    "    X = banknote.iloc[:,:4]\n",
    "    return X,y"
   ]
  },
  {
   "cell_type": "code",
   "execution_count": 42,
   "id": "f6083fe8",
   "metadata": {},
   "outputs": [],
   "source": [
    "class MLProblem:\n",
    "    def __init__(self, performance_measure, train_size, validation_size, test_size):\n",
    "        self.performance_measure = performance_measure\n",
    "        self.train_size = train_size\n",
    "        self.validation_size = validation_size\n",
    "        self.test_size = test_size\n",
    "        \n",
    "    def PerformanceMeasure(self, y_true, y_pred):\n",
    "        if self.performance_measure == 'r2_score':\n",
    "            return r2_score(y_true, y_pred)\n",
    "        elif self.performance_measure == 'f1_score':\n",
    "            return f1_score(y_true, y_pred)\n",
    "        elif self.performance_measure == 'precision_score':\n",
    "            return precision_score(y_true, y_pred)\n",
    "        elif self.performance_measure == 'recall_score':\n",
    "            return recall_score(y_true, y_pred)\n",
    "        \n",
    "    def SplitData(self, X, y):\n",
    "        # Now we'll use 'train_test_split' from sklearn\n",
    "        # to split the data into training and testing sets\n",
    "        random_state = 0\n",
    "        self.validation_size = self.validation_size / (1-self.test_size)\n",
    "        \n",
    "        # 'train_test_split' convinience function\n",
    "        X_train, X_test, y_train, y_test = train_test_split(X, y, test_size=self.test_size, random_state=random_state)\n",
    "        X_train, X_validation, y_train, y_validation = train_test_split(X_train, y_train, test_size=self.validation_size, random_state=random_state)\n",
    "        return X_train,y_train,X_validation,y_validation,X_test,y_test\n",
    "    \n",
    "    def StandarizeData(self, sc, X):\n",
    "        X_std = sc.transform(X)\n",
    "        return X_std;\n",
    "    \n",
    "    def TrainModels(self, models, X_train, y_train):\n",
    "        for model in models:\n",
    "            model.fit(X_train, y_train)\n",
    "    \n",
    "    def SelectModel(self, models, X_test, y_test):\n",
    "        best_model = models[0]\n",
    "        best_score = -1\n",
    "        for model in models:\n",
    "            y_pred = model.predict(X_test)\n",
    "            score = self.PerformanceMeasure(y_test, y_pred)\n",
    "            if score > best_score:\n",
    "                best_model = model\n",
    "                best_score = score\n",
    "        return best_model, best_score\n",
    "    \n",
    "    def ValidateModel(self, model, X_validation, y_validation):\n",
    "        y_pred = model.predict(X_validation)\n",
    "        validation_measure = self.PerformanceMeasure(y_validation, y_pred)\n",
    "        return validation_measure\n",
    "    \n",
    "    def Solve(self, X, y): \n",
    "        X_train,y_train,X_validation,y_validation,X_test,y_test = self.SplitData(X, y)\n",
    "        sc = StandardScaler()\n",
    "        sc.fit(X_train)\n",
    "        \n",
    "        X_train_std = self.StandarizeData(sc, X_train)\n",
    "        X_validation_std = self.StandarizeData(sc, X_validation)\n",
    "        X_test_std = self.StandarizeData(sc, X_test)\n",
    "        \n",
    "        lgr = LogisticRegression()\n",
    "        svc = SVC(kernel='linear', C=0.5)\n",
    "        models = [lgr, svc]\n",
    "        self.TrainModels(models, X_train_std, y_train)\n",
    "        best_model, model_score = self.SelectModel(models, X_validation_std, y_validation)\n",
    "        y_pred = best_model.predict(X_test_std)\n",
    "        return best_model, self.PerformanceMeasure(y_test, y_pred)"
   ]
  },
  {
   "cell_type": "code",
   "execution_count": 43,
   "id": "29927794",
   "metadata": {},
   "outputs": [],
   "source": [
    "def SolveOccupancyProblem(performance_measure, train_size, validation_size, test_size):\n",
    "    X,y = GetOccupancyData(\"datatraining.txt\")\n",
    "    X_2,y_2 = GetOccupancyData(\"datatest.txt\")\n",
    "    X_3, y_3 = GetOccupancyData(\"datatest2.txt\")\n",
    "    X_frames = [X,X_2,X_3]\n",
    "    y_frames = [y,y_2,y_3]\n",
    "    X = pd.concat(X_frames)\n",
    "    y = pd.concat(y_frames)\n",
    "    occupancy_problem = MLProblem(performance_measure, train_size, validation_size, test_size)\n",
    "    return occupancy_problem.Solve(X,y)"
   ]
  },
  {
   "cell_type": "code",
   "execution_count": 44,
   "id": "3de0811a",
   "metadata": {},
   "outputs": [],
   "source": [
    "def SolveBanknoteProblem(performance_measure, train_size, validation_size, test_size):\n",
    "    X,y = GetBanknoteData()\n",
    "    banknote_problem = MLProblem(performance_measure, train_size, validation_size, test_size)\n",
    "    return banknote_problem.Solve(X,y)"
   ]
  },
  {
   "cell_type": "markdown",
   "id": "1078d3fa",
   "metadata": {},
   "source": [
    "Some examples:"
   ]
  },
  {
   "cell_type": "code",
   "execution_count": 26,
   "id": "97e313ab",
   "metadata": {},
   "outputs": [
    {
     "data": {
      "text/plain": [
       "(SVC(C=0.5, kernel='linear'), 0.9338221196570192)"
      ]
     },
     "execution_count": 26,
     "metadata": {},
     "output_type": "execute_result"
    }
   ],
   "source": [
    "SolveOccupancyProblem('r2_score', 0.7, 0.2, 0.1)"
   ]
  },
  {
   "cell_type": "code",
   "execution_count": 33,
   "id": "2da874c6",
   "metadata": {},
   "outputs": [
    {
     "data": {
      "text/plain": [
       "(LogisticRegression(), 0.8512931034482758)"
      ]
     },
     "execution_count": 33,
     "metadata": {},
     "output_type": "execute_result"
    }
   ],
   "source": [
    "SolveBanknoteProblem('r2_score', 0.7, 0.2, 0.1)"
   ]
  },
  {
   "cell_type": "code",
   "execution_count": 34,
   "id": "9db966e9",
   "metadata": {},
   "outputs": [
    {
     "data": {
      "text/plain": [
       "(SVC(C=0.5, kernel='linear'), 0.9745293466223698)"
      ]
     },
     "execution_count": 34,
     "metadata": {},
     "output_type": "execute_result"
    }
   ],
   "source": [
    "SolveOccupancyProblem('f1_score', 0.7, 0.2, 0.1)"
   ]
  },
  {
   "cell_type": "code",
   "execution_count": 35,
   "id": "71a58214",
   "metadata": {},
   "outputs": [
    {
     "data": {
      "text/plain": [
       "(LogisticRegression(), 0.9586776859504132)"
      ]
     },
     "execution_count": 35,
     "metadata": {},
     "output_type": "execute_result"
    }
   ],
   "source": [
    "SolveBanknoteProblem('f1_score',0.7,0.2,0.1)"
   ]
  },
  {
   "cell_type": "markdown",
   "id": "8133e8e5",
   "metadata": {},
   "source": [
    "# Banknote problem"
   ]
  },
  {
   "cell_type": "markdown",
   "id": "a3937a0d",
   "metadata": {},
   "source": [
    "For the banknote problem, we assume this ML model will be used in an ATM. The banknotes inserted into the ATM may not be of the same quality as the ones used for training the model, therefore we need to use just 70% percent of our data to train the model, so that it can recognize folded and old banknotes. The remaining data will be used for validate and test our ML model, so they will have 20% and 10% percent of the data respectively. The metric used compare the performance across different ML models will be `precision_score()` because we want our model to not fail in the false positives rather than not fail in the true positives banknotes. This is because, is more important to reject a false banknote than accept a true one."
   ]
  },
  {
   "cell_type": "code",
   "execution_count": 39,
   "id": "da4fe3fd",
   "metadata": {},
   "outputs": [
    {
     "data": {
      "text/plain": [
       "(LogisticRegression(), 0.9206349206349206)"
      ]
     },
     "execution_count": 39,
     "metadata": {},
     "output_type": "execute_result"
    }
   ],
   "source": [
    "SolveBanknoteProblem('precision_score', 0.7,0.2,0.1)"
   ]
  },
  {
   "cell_type": "markdown",
   "id": "86bb394b",
   "metadata": {},
   "source": [
    "# Occupancy problem"
   ]
  },
  {
   "cell_type": "markdown",
   "id": "2039da21",
   "metadata": {},
   "source": [
    "For the occupancy problem, we assume this ML model will be used in a university classrooms. The amount of students that use the classroom in each class will vary each term so we will use just 60% of the data to train our model, as we don't want it to learn the specific amount of people present in the classroom in different hours. The remaining data will be used to validate and test our model, then they will have both 20% of the data. As it will be used for university classrooms, there will be certain specific hours where it will be used, hence we need just the date and hour in our dataset to train the model. Finally, the metric used to compare the performance across different models will be `recall_score()` because we want our model to not fail in the true positives samples rather than the false positives ones, as it's more important to turn on the lights when it's needed than when it's not."
   ]
  },
  {
   "cell_type": "code",
   "execution_count": 45,
   "id": "7bc11847",
   "metadata": {},
   "outputs": [
    {
     "data": {
      "text/plain": [
       "(LogisticRegression(), 0.9958027282266527)"
      ]
     },
     "execution_count": 45,
     "metadata": {},
     "output_type": "execute_result"
    }
   ],
   "source": [
    "SolveOccupancyProblem('recall_score', 0.6, 0.2, 0.2)"
   ]
  },
  {
   "cell_type": "markdown",
   "id": "1d9174c5",
   "metadata": {},
   "source": [
    "# Validación cruzada"
   ]
  },
  {
   "cell_type": "code",
   "execution_count": 56,
   "id": "93365899",
   "metadata": {},
   "outputs": [],
   "source": [
    "percentages = [[0.8, 0.1, 0.1], [0.65,0.2,0.15], [0.8, 0.15,0.05], [0.9, 0.05, 0.05], [0.6,0.2,0.2], [0.6,0.3,0.1], [0.6,0.1,0.3]]"
   ]
  },
  {
   "cell_type": "code",
   "execution_count": 59,
   "id": "86dd2aa3",
   "metadata": {},
   "outputs": [
    {
     "name": "stdout",
     "output_type": "stream",
     "text": [
      "ML for banknote problem average result:  0.9285410657163905\n",
      "ML for occupancy problem average result:  0.9935472497002144\n"
     ]
    }
   ],
   "source": [
    "banknote_accuracy = []\n",
    "occupancy_accuracy = []\n",
    "for p in percentages:\n",
    "    banknote_accuracy.append(SolveBanknoteProblem('precision_score', p[0], p[1], p[2])[1])\n",
    "    occupancy_accuracy.append(SolveOccupancyProblem('recall_score', p[0], p[1], p[2])[1])\n",
    "    \n",
    "print(\"ML for banknote problem average result: \", np.average(banknote_accuracy))\n",
    "print(\"ML for occupancy problem average result: \", np.average(occupancy_accuracy))"
   ]
  }
 ],
 "metadata": {
  "kernelspec": {
   "display_name": "Python 3 (ipykernel)",
   "language": "python",
   "name": "python3"
  },
  "language_info": {
   "codemirror_mode": {
    "name": "ipython",
    "version": 3
   },
   "file_extension": ".py",
   "mimetype": "text/x-python",
   "name": "python",
   "nbconvert_exporter": "python",
   "pygments_lexer": "ipython3",
   "version": "3.10.6"
  },
  "toc": {
   "base_numbering": 1,
   "nav_menu": {},
   "number_sections": true,
   "sideBar": true,
   "skip_h1_title": false,
   "title_cell": "Table of Contents",
   "title_sidebar": "Contents",
   "toc_cell": false,
   "toc_position": {},
   "toc_section_display": true,
   "toc_window_display": false
  }
 },
 "nbformat": 4,
 "nbformat_minor": 5
}
